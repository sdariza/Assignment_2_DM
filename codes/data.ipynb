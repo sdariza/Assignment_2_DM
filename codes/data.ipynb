{
 "cells": [
  {
   "cell_type": "code",
   "execution_count": 12,
   "metadata": {
    "id": "xm79dJ5Rbj7b"
   },
   "outputs": [],
   "source": [
    "def read_split(path:str,size:float):\n",
    "  data = pd.read_csv(path)\n",
    "  X = data.drop(columns=['y'])\n",
    "  y = data.y\n",
    "  return train_test_split(X,y, test_size=size, random_state=123)"
   ]
  },
  {
   "cell_type": "code",
   "execution_count": 13,
   "metadata": {
    "id": "wGLghfETQS48"
   },
   "outputs": [],
   "source": [
    "import pandas as pd\n",
    "import os\n",
    "import copy\n",
    "import glob\n",
    "from sklearn.model_selection import train_test_split, cross_val_score\n",
    "import numpy as np\n",
    "import pickle as pick\n",
    "\n",
    "\n",
    "import matplotlib.pyplot as plt\n",
    "\n",
    "from sklearn import tree\n",
    "from sklearn.tree import DecisionTreeClassifier\n",
    "from sklearn.ensemble import RandomForestClassifier\n",
    "from sklearn.neighbors import KNeighborsClassifier\n",
    "from  xgboost import XGBClassifier as xgb\n",
    "from sklearn.model_selection import GridSearchCV\n",
    "\n",
    "from imblearn.under_sampling import RandomUnderSampler\n",
    "from imblearn.over_sampling import RandomOverSampler, SMOTE\n",
    "from imblearn.under_sampling import TomekLinks \n",
    "from sklearn.metrics import balanced_accuracy_score \n",
    "import sklearn.metrics as met\n",
    "\n",
    "import scipy.stats as stats"
   ]
  },
  {
   "cell_type": "markdown",
   "metadata": {
    "id": "h45J5Lpc3Nf6"
   },
   "source": [
    "Falta - LR"
   ]
  },
  {
   "cell_type": "code",
   "execution_count": 14,
   "metadata": {
    "id": "5jdsug6_Qbad"
   },
   "outputs": [],
   "source": [
    "thetas = np.linspace(0,1,101)"
   ]
  },
  {
   "cell_type": "code",
   "execution_count": 14,
   "metadata": {
    "id": "N9THJmFPRKry"
   },
   "outputs": [
    {
     "data": {
      "text/plain": [
       "['./OneDrive_2022-10-05/datasets DEFINITIVO\\\\Bank Marketing (1).csv',\n",
       " './OneDrive_2022-10-05/datasets DEFINITIVO\\\\card_transdata.csv',\n",
       " './OneDrive_2022-10-05/datasets DEFINITIVO\\\\ecoli-0-1-4-6_vs_5.csv',\n",
       " './OneDrive_2022-10-05/datasets DEFINITIVO\\\\ecoli-0-1-4-7_vs_5-6.csv',\n",
       " './OneDrive_2022-10-05/datasets DEFINITIVO\\\\ecoli-0-2-3-4_vs_5.csv',\n",
       " './OneDrive_2022-10-05/datasets DEFINITIVO\\\\ecoli-0-3-4_vs_5.csv',\n",
       " './OneDrive_2022-10-05/datasets DEFINITIVO\\\\ecoli-0-6-7_vs_3-5.csv',\n",
       " './OneDrive_2022-10-05/datasets DEFINITIVO\\\\fertility_Diagnosis.csv',\n",
       " './OneDrive_2022-10-05/datasets DEFINITIVO\\\\glass-0-1-4-6_vs_2.csv',\n",
       " './OneDrive_2022-10-05/datasets DEFINITIVO\\\\glass4.csv',\n",
       " './OneDrive_2022-10-05/datasets DEFINITIVO\\\\Internet Advertisements (1).csv',\n",
       " './OneDrive_2022-10-05/datasets DEFINITIVO\\\\led7digit-0-2-4-5-6-7-8-9_vs_1.csv',\n",
       " './OneDrive_2022-10-05/datasets DEFINITIVO\\\\page-blocks0.csv',\n",
       " './OneDrive_2022-10-05/datasets DEFINITIVO\\\\qsar_oral_toxicity (1).csv',\n",
       " './OneDrive_2022-10-05/datasets DEFINITIVO\\\\segment0.csv',\n",
       " './OneDrive_2022-10-05/datasets DEFINITIVO\\\\Shill Bidding Dataset (1).csv',\n",
       " './OneDrive_2022-10-05/datasets DEFINITIVO\\\\shuttle-c0-vs-c4.csv',\n",
       " './OneDrive_2022-10-05/datasets DEFINITIVO\\\\shuttle-c2-vs-c4.csv',\n",
       " './OneDrive_2022-10-05/datasets DEFINITIVO\\\\shuttle-landing-control.csv',\n",
       " './OneDrive_2022-10-05/datasets DEFINITIVO\\\\Thoracic Surgery (1).csv',\n",
       " './OneDrive_2022-10-05/datasets DEFINITIVO\\\\vowel0.csv',\n",
       " './OneDrive_2022-10-05/datasets DEFINITIVO\\\\yeast5.csv']"
      ]
     },
     "execution_count": 14,
     "metadata": {},
     "output_type": "execute_result"
    }
   ],
   "source": [
    "paths = glob.glob('./OneDrive_2022-10-05/datasets DEFINITIVO/*.csv')\n",
    "paths"
   ]
  },
  {
   "cell_type": "code",
   "execution_count": 26,
   "metadata": {
    "id": "OWRmKIKCRv0L"
   },
   "outputs": [
    {
     "name": "stderr",
     "output_type": "stream",
     "text": [
      "Ya existe el subdirectorio o el archivo data.\n"
     ]
    }
   ],
   "source": [
    "!mkdir data"
   ]
  },
  {
   "cell_type": "code",
   "execution_count": 15,
   "metadata": {
    "id": "_DtaoiyeQbg-"
   },
   "outputs": [],
   "source": [
    "for idx, path in enumerate(paths):\n",
    "   os.rename(path,f'./data/data{idx}.csv')"
   ]
  },
  {
   "cell_type": "code",
   "execution_count": 15,
   "metadata": {
    "id": "gZPkrpruSWoE"
   },
   "outputs": [
    {
     "data": {
      "text/plain": [
       "['./data\\\\data0.csv',\n",
       " './data\\\\data1.csv',\n",
       " './data\\\\data10.csv',\n",
       " './data\\\\data11.csv',\n",
       " './data\\\\data12.csv',\n",
       " './data\\\\data13.csv',\n",
       " './data\\\\data14.csv',\n",
       " './data\\\\data15.csv',\n",
       " './data\\\\data16.csv',\n",
       " './data\\\\data17.csv',\n",
       " './data\\\\data18.csv',\n",
       " './data\\\\data19.csv',\n",
       " './data\\\\data2.csv',\n",
       " './data\\\\data20.csv',\n",
       " './data\\\\data21.csv',\n",
       " './data\\\\data3.csv',\n",
       " './data\\\\data4.csv',\n",
       " './data\\\\data5.csv',\n",
       " './data\\\\data6.csv',\n",
       " './data\\\\data7.csv']"
      ]
     },
     "execution_count": 15,
     "metadata": {},
     "output_type": "execute_result"
    }
   ],
   "source": [
    "paths = glob.glob('./data/*.csv')\n",
    "paths"
   ]
  },
  {
   "cell_type": "code",
   "execution_count": 16,
   "metadata": {
    "id": "UWaz9OdHT7Yg"
   },
   "outputs": [],
   "source": [
    "models = []\n",
    "models.append(('Tree',DecisionTreeClassifier()))\n",
    "models.append(('RF',RandomForestClassifier()))\n",
    "models.append(('KNN',KNeighborsClassifier()))\n",
    "models.append(('XGB',xgb()))"
   ]
  },
  {
   "cell_type": "code",
   "execution_count": 17,
   "metadata": {
    "id": "Oxz6iD-1eLws"
   },
   "outputs": [],
   "source": [
    "parameters = []\n",
    "parameters.append(('Tree',{'min_samples_leaf':[20,30,40,50],\n",
    "                           'min_impurity_decrease':[0,0.01,0.03,0.05],\n",
    "                           'ccp_alpha':[0,0.01,0.03,0.05],\n",
    "                           'random_state':[123]}))\n",
    "\n",
    "#class_weight='balanced'\n",
    "\n",
    "parameters.append(('RF',{'n_estimators':[500],\n",
    "                         'min_samples_leaf':[20,30,40,50],\n",
    "                         'min_impurity_decrease':[0,0.01,0.03,0.05],\n",
    "                         'ccp_alpha':[0,0.01,0.03,0.05],\n",
    "                         'oob_score':[False, True],\n",
    "                         'random_state':[123]}))\n",
    "\n",
    "parameters.append(('KNN',{'n_neighbors':[3,5,7,11,21],\n",
    "                          'algorithm':['ball_tree','kd_tree'],\n",
    "                          'p':[1,2],\n",
    "                          'leaf_size':[20,30,40]}))\n",
    "\n",
    "parameters.append(('XGB',{'learning_rate': [0.3, 0.5, 0.7],\n",
    "                          'min_child_weight': [1,3,5],\n",
    "                          'subsample': [0.5,0.6,0.7,0.8],\n",
    "                          'verbosity': [0],\n",
    "                          'colsample_bytree': [0.7,0.8,0.9,1],\n",
    "                          'n_estimators': [100,300,500],\n",
    "                          'random_state':[123]}))\n",
    "parameters = dict(parameters)"
   ]
  },
  {
   "cell_type": "code",
   "execution_count": 18,
   "metadata": {
    "id": "Y1v5tInYadWM"
   },
   "outputs": [],
   "source": [
    "dict_models = {'Tree':{'t':[],'nt':[], 'size':[]},\n",
    "              'RF':{'t':[],'nt':[],'size':[]},\n",
    "              'KNN':{'t':[],'nt':[],'size':[]},\n",
    "              'XGB':{'t':[],'nt':[],'size':[]}\n",
    "              }"
   ]
  },
  {
   "cell_type": "code",
   "execution_count": 19,
   "metadata": {
    "id": "WdOMb1UA3je1"
   },
   "outputs": [],
   "source": [
    "dict_models1 = copy.deepcopy(dict_models);\n",
    "dict_models2 = copy.deepcopy(dict_models);\n",
    "dict_models3 = copy.deepcopy(dict_models);\n",
    "dict_models4 = copy.deepcopy(dict_models);"
   ]
  },
  {
   "cell_type": "code",
   "execution_count": 21,
   "metadata": {
    "colab": {
     "base_uri": "https://localhost:8080/",
     "height": 502
    },
    "id": "21rhjXSURHIx",
    "outputId": "fcaaf680-ef01-4cbe-f584-1e1b53c6265f"
   },
   "outputs": [
    {
     "name": "stdout",
     "output_type": "stream",
     "text": [
      "Fitting 5 folds for each of 64 candidates, totalling 320 fits\n",
      "{'ccp_alpha': 0, 'min_impurity_decrease': 0, 'min_samples_leaf': 20, 'random_state': 123}\n",
      "ros:  0.7143749788241058\n",
      "noRos: 0.6987788587454725\n",
      "******************\n",
      "Fitting 5 folds for each of 128 candidates, totalling 640 fits\n"
     ]
    },
    {
     "ename": "KeyboardInterrupt",
     "evalue": "",
     "output_type": "error",
     "traceback": [
      "\u001b[1;31m---------------------------------------------------------------------------\u001b[0m",
      "\u001b[1;31mKeyboardInterrupt\u001b[0m                         Traceback (most recent call last)",
      "Input \u001b[1;32mIn [21]\u001b[0m, in \u001b[0;36m<cell line: 1>\u001b[1;34m()\u001b[0m\n\u001b[0;32m      8\u001b[0m \u001b[38;5;28;01mfor\u001b[39;00m name, model \u001b[38;5;129;01min\u001b[39;00m models:\n\u001b[0;32m      9\u001b[0m   model_grid \u001b[38;5;241m=\u001b[39m GridSearchCV(model,\n\u001b[0;32m     10\u001b[0m                parameters[name],\n\u001b[0;32m     11\u001b[0m                cv \u001b[38;5;241m=\u001b[39m \u001b[38;5;241m5\u001b[39m,\n\u001b[0;32m     12\u001b[0m                n_jobs \u001b[38;5;241m=\u001b[39m \u001b[38;5;241m5\u001b[39m,\n\u001b[0;32m     13\u001b[0m                verbose\u001b[38;5;241m=\u001b[39m\u001b[38;5;28;01mTrue\u001b[39;00m,\n\u001b[0;32m     14\u001b[0m                scoring\u001b[38;5;241m=\u001b[39m\u001b[38;5;124m'\u001b[39m\u001b[38;5;124mbalanced_accuracy\u001b[39m\u001b[38;5;124m'\u001b[39m)\n\u001b[1;32m---> 15\u001b[0m   \u001b[43mmodel_grid\u001b[49m\u001b[38;5;241;43m.\u001b[39;49m\u001b[43mfit\u001b[49m\u001b[43m(\u001b[49m\u001b[43mx_ros\u001b[49m\u001b[43m,\u001b[49m\u001b[43m \u001b[49m\u001b[43my_ros\u001b[49m\u001b[43m)\u001b[49m\n\u001b[0;32m     16\u001b[0m   \u001b[38;5;28mprint\u001b[39m(model_grid\u001b[38;5;241m.\u001b[39mbest_params_)\n\u001b[0;32m     17\u001b[0m   \u001b[38;5;66;03m# print(model_grid.best_score_)\u001b[39;00m\n",
      "File \u001b[1;32m~\\.conda\\envs\\mineria\\lib\\site-packages\\sklearn\\model_selection\\_search.py:891\u001b[0m, in \u001b[0;36mBaseSearchCV.fit\u001b[1;34m(self, X, y, groups, **fit_params)\u001b[0m\n\u001b[0;32m    885\u001b[0m     results \u001b[38;5;241m=\u001b[39m \u001b[38;5;28mself\u001b[39m\u001b[38;5;241m.\u001b[39m_format_results(\n\u001b[0;32m    886\u001b[0m         all_candidate_params, n_splits, all_out, all_more_results\n\u001b[0;32m    887\u001b[0m     )\n\u001b[0;32m    889\u001b[0m     \u001b[38;5;28;01mreturn\u001b[39;00m results\n\u001b[1;32m--> 891\u001b[0m \u001b[38;5;28;43mself\u001b[39;49m\u001b[38;5;241;43m.\u001b[39;49m\u001b[43m_run_search\u001b[49m\u001b[43m(\u001b[49m\u001b[43mevaluate_candidates\u001b[49m\u001b[43m)\u001b[49m\n\u001b[0;32m    893\u001b[0m \u001b[38;5;66;03m# multimetric is determined here because in the case of a callable\u001b[39;00m\n\u001b[0;32m    894\u001b[0m \u001b[38;5;66;03m# self.scoring the return type is only known after calling\u001b[39;00m\n\u001b[0;32m    895\u001b[0m first_test_score \u001b[38;5;241m=\u001b[39m all_out[\u001b[38;5;241m0\u001b[39m][\u001b[38;5;124m\"\u001b[39m\u001b[38;5;124mtest_scores\u001b[39m\u001b[38;5;124m\"\u001b[39m]\n",
      "File \u001b[1;32m~\\.conda\\envs\\mineria\\lib\\site-packages\\sklearn\\model_selection\\_search.py:1392\u001b[0m, in \u001b[0;36mGridSearchCV._run_search\u001b[1;34m(self, evaluate_candidates)\u001b[0m\n\u001b[0;32m   1390\u001b[0m \u001b[38;5;28;01mdef\u001b[39;00m \u001b[38;5;21m_run_search\u001b[39m(\u001b[38;5;28mself\u001b[39m, evaluate_candidates):\n\u001b[0;32m   1391\u001b[0m     \u001b[38;5;124;03m\"\"\"Search all candidates in param_grid\"\"\"\u001b[39;00m\n\u001b[1;32m-> 1392\u001b[0m     \u001b[43mevaluate_candidates\u001b[49m\u001b[43m(\u001b[49m\u001b[43mParameterGrid\u001b[49m\u001b[43m(\u001b[49m\u001b[38;5;28;43mself\u001b[39;49m\u001b[38;5;241;43m.\u001b[39;49m\u001b[43mparam_grid\u001b[49m\u001b[43m)\u001b[49m\u001b[43m)\u001b[49m\n",
      "File \u001b[1;32m~\\.conda\\envs\\mineria\\lib\\site-packages\\sklearn\\model_selection\\_search.py:838\u001b[0m, in \u001b[0;36mBaseSearchCV.fit.<locals>.evaluate_candidates\u001b[1;34m(candidate_params, cv, more_results)\u001b[0m\n\u001b[0;32m    830\u001b[0m \u001b[38;5;28;01mif\u001b[39;00m \u001b[38;5;28mself\u001b[39m\u001b[38;5;241m.\u001b[39mverbose \u001b[38;5;241m>\u001b[39m \u001b[38;5;241m0\u001b[39m:\n\u001b[0;32m    831\u001b[0m     \u001b[38;5;28mprint\u001b[39m(\n\u001b[0;32m    832\u001b[0m         \u001b[38;5;124m\"\u001b[39m\u001b[38;5;124mFitting \u001b[39m\u001b[38;5;132;01m{0}\u001b[39;00m\u001b[38;5;124m folds for each of \u001b[39m\u001b[38;5;132;01m{1}\u001b[39;00m\u001b[38;5;124m candidates,\u001b[39m\u001b[38;5;124m\"\u001b[39m\n\u001b[0;32m    833\u001b[0m         \u001b[38;5;124m\"\u001b[39m\u001b[38;5;124m totalling \u001b[39m\u001b[38;5;132;01m{2}\u001b[39;00m\u001b[38;5;124m fits\u001b[39m\u001b[38;5;124m\"\u001b[39m\u001b[38;5;241m.\u001b[39mformat(\n\u001b[0;32m    834\u001b[0m             n_splits, n_candidates, n_candidates \u001b[38;5;241m*\u001b[39m n_splits\n\u001b[0;32m    835\u001b[0m         )\n\u001b[0;32m    836\u001b[0m     )\n\u001b[1;32m--> 838\u001b[0m out \u001b[38;5;241m=\u001b[39m \u001b[43mparallel\u001b[49m\u001b[43m(\u001b[49m\n\u001b[0;32m    839\u001b[0m \u001b[43m    \u001b[49m\u001b[43mdelayed\u001b[49m\u001b[43m(\u001b[49m\u001b[43m_fit_and_score\u001b[49m\u001b[43m)\u001b[49m\u001b[43m(\u001b[49m\n\u001b[0;32m    840\u001b[0m \u001b[43m        \u001b[49m\u001b[43mclone\u001b[49m\u001b[43m(\u001b[49m\u001b[43mbase_estimator\u001b[49m\u001b[43m)\u001b[49m\u001b[43m,\u001b[49m\n\u001b[0;32m    841\u001b[0m \u001b[43m        \u001b[49m\u001b[43mX\u001b[49m\u001b[43m,\u001b[49m\n\u001b[0;32m    842\u001b[0m \u001b[43m        \u001b[49m\u001b[43my\u001b[49m\u001b[43m,\u001b[49m\n\u001b[0;32m    843\u001b[0m \u001b[43m        \u001b[49m\u001b[43mtrain\u001b[49m\u001b[38;5;241;43m=\u001b[39;49m\u001b[43mtrain\u001b[49m\u001b[43m,\u001b[49m\n\u001b[0;32m    844\u001b[0m \u001b[43m        \u001b[49m\u001b[43mtest\u001b[49m\u001b[38;5;241;43m=\u001b[39;49m\u001b[43mtest\u001b[49m\u001b[43m,\u001b[49m\n\u001b[0;32m    845\u001b[0m \u001b[43m        \u001b[49m\u001b[43mparameters\u001b[49m\u001b[38;5;241;43m=\u001b[39;49m\u001b[43mparameters\u001b[49m\u001b[43m,\u001b[49m\n\u001b[0;32m    846\u001b[0m \u001b[43m        \u001b[49m\u001b[43msplit_progress\u001b[49m\u001b[38;5;241;43m=\u001b[39;49m\u001b[43m(\u001b[49m\u001b[43msplit_idx\u001b[49m\u001b[43m,\u001b[49m\u001b[43m \u001b[49m\u001b[43mn_splits\u001b[49m\u001b[43m)\u001b[49m\u001b[43m,\u001b[49m\n\u001b[0;32m    847\u001b[0m \u001b[43m        \u001b[49m\u001b[43mcandidate_progress\u001b[49m\u001b[38;5;241;43m=\u001b[39;49m\u001b[43m(\u001b[49m\u001b[43mcand_idx\u001b[49m\u001b[43m,\u001b[49m\u001b[43m \u001b[49m\u001b[43mn_candidates\u001b[49m\u001b[43m)\u001b[49m\u001b[43m,\u001b[49m\n\u001b[0;32m    848\u001b[0m \u001b[43m        \u001b[49m\u001b[38;5;241;43m*\u001b[39;49m\u001b[38;5;241;43m*\u001b[39;49m\u001b[43mfit_and_score_kwargs\u001b[49m\u001b[43m,\u001b[49m\n\u001b[0;32m    849\u001b[0m \u001b[43m    \u001b[49m\u001b[43m)\u001b[49m\n\u001b[0;32m    850\u001b[0m \u001b[43m    \u001b[49m\u001b[38;5;28;43;01mfor\u001b[39;49;00m\u001b[43m \u001b[49m\u001b[43m(\u001b[49m\u001b[43mcand_idx\u001b[49m\u001b[43m,\u001b[49m\u001b[43m \u001b[49m\u001b[43mparameters\u001b[49m\u001b[43m)\u001b[49m\u001b[43m,\u001b[49m\u001b[43m \u001b[49m\u001b[43m(\u001b[49m\u001b[43msplit_idx\u001b[49m\u001b[43m,\u001b[49m\u001b[43m \u001b[49m\u001b[43m(\u001b[49m\u001b[43mtrain\u001b[49m\u001b[43m,\u001b[49m\u001b[43m \u001b[49m\u001b[43mtest\u001b[49m\u001b[43m)\u001b[49m\u001b[43m)\u001b[49m\u001b[43m \u001b[49m\u001b[38;5;129;43;01min\u001b[39;49;00m\u001b[43m \u001b[49m\u001b[43mproduct\u001b[49m\u001b[43m(\u001b[49m\n\u001b[0;32m    851\u001b[0m \u001b[43m        \u001b[49m\u001b[38;5;28;43menumerate\u001b[39;49m\u001b[43m(\u001b[49m\u001b[43mcandidate_params\u001b[49m\u001b[43m)\u001b[49m\u001b[43m,\u001b[49m\u001b[43m \u001b[49m\u001b[38;5;28;43menumerate\u001b[39;49m\u001b[43m(\u001b[49m\u001b[43mcv\u001b[49m\u001b[38;5;241;43m.\u001b[39;49m\u001b[43msplit\u001b[49m\u001b[43m(\u001b[49m\u001b[43mX\u001b[49m\u001b[43m,\u001b[49m\u001b[43m \u001b[49m\u001b[43my\u001b[49m\u001b[43m,\u001b[49m\u001b[43m \u001b[49m\u001b[43mgroups\u001b[49m\u001b[43m)\u001b[49m\u001b[43m)\u001b[49m\n\u001b[0;32m    852\u001b[0m \u001b[43m    \u001b[49m\u001b[43m)\u001b[49m\n\u001b[0;32m    853\u001b[0m \u001b[43m\u001b[49m\u001b[43m)\u001b[49m\n\u001b[0;32m    855\u001b[0m \u001b[38;5;28;01mif\u001b[39;00m \u001b[38;5;28mlen\u001b[39m(out) \u001b[38;5;241m<\u001b[39m \u001b[38;5;241m1\u001b[39m:\n\u001b[0;32m    856\u001b[0m     \u001b[38;5;28;01mraise\u001b[39;00m \u001b[38;5;167;01mValueError\u001b[39;00m(\n\u001b[0;32m    857\u001b[0m         \u001b[38;5;124m\"\u001b[39m\u001b[38;5;124mNo fits were performed. \u001b[39m\u001b[38;5;124m\"\u001b[39m\n\u001b[0;32m    858\u001b[0m         \u001b[38;5;124m\"\u001b[39m\u001b[38;5;124mWas the CV iterator empty? \u001b[39m\u001b[38;5;124m\"\u001b[39m\n\u001b[0;32m    859\u001b[0m         \u001b[38;5;124m\"\u001b[39m\u001b[38;5;124mWere there no candidates?\u001b[39m\u001b[38;5;124m\"\u001b[39m\n\u001b[0;32m    860\u001b[0m     )\n",
      "File \u001b[1;32m~\\.conda\\envs\\mineria\\lib\\site-packages\\joblib\\parallel.py:1056\u001b[0m, in \u001b[0;36mParallel.__call__\u001b[1;34m(self, iterable)\u001b[0m\n\u001b[0;32m   1053\u001b[0m     \u001b[38;5;28mself\u001b[39m\u001b[38;5;241m.\u001b[39m_iterating \u001b[38;5;241m=\u001b[39m \u001b[38;5;28;01mFalse\u001b[39;00m\n\u001b[0;32m   1055\u001b[0m \u001b[38;5;28;01mwith\u001b[39;00m \u001b[38;5;28mself\u001b[39m\u001b[38;5;241m.\u001b[39m_backend\u001b[38;5;241m.\u001b[39mretrieval_context():\n\u001b[1;32m-> 1056\u001b[0m     \u001b[38;5;28;43mself\u001b[39;49m\u001b[38;5;241;43m.\u001b[39;49m\u001b[43mretrieve\u001b[49m\u001b[43m(\u001b[49m\u001b[43m)\u001b[49m\n\u001b[0;32m   1057\u001b[0m \u001b[38;5;66;03m# Make sure that we get a last message telling us we are done\u001b[39;00m\n\u001b[0;32m   1058\u001b[0m elapsed_time \u001b[38;5;241m=\u001b[39m time\u001b[38;5;241m.\u001b[39mtime() \u001b[38;5;241m-\u001b[39m \u001b[38;5;28mself\u001b[39m\u001b[38;5;241m.\u001b[39m_start_time\n",
      "File \u001b[1;32m~\\.conda\\envs\\mineria\\lib\\site-packages\\joblib\\parallel.py:935\u001b[0m, in \u001b[0;36mParallel.retrieve\u001b[1;34m(self)\u001b[0m\n\u001b[0;32m    933\u001b[0m \u001b[38;5;28;01mtry\u001b[39;00m:\n\u001b[0;32m    934\u001b[0m     \u001b[38;5;28;01mif\u001b[39;00m \u001b[38;5;28mgetattr\u001b[39m(\u001b[38;5;28mself\u001b[39m\u001b[38;5;241m.\u001b[39m_backend, \u001b[38;5;124m'\u001b[39m\u001b[38;5;124msupports_timeout\u001b[39m\u001b[38;5;124m'\u001b[39m, \u001b[38;5;28;01mFalse\u001b[39;00m):\n\u001b[1;32m--> 935\u001b[0m         \u001b[38;5;28mself\u001b[39m\u001b[38;5;241m.\u001b[39m_output\u001b[38;5;241m.\u001b[39mextend(\u001b[43mjob\u001b[49m\u001b[38;5;241;43m.\u001b[39;49m\u001b[43mget\u001b[49m\u001b[43m(\u001b[49m\u001b[43mtimeout\u001b[49m\u001b[38;5;241;43m=\u001b[39;49m\u001b[38;5;28;43mself\u001b[39;49m\u001b[38;5;241;43m.\u001b[39;49m\u001b[43mtimeout\u001b[49m\u001b[43m)\u001b[49m)\n\u001b[0;32m    936\u001b[0m     \u001b[38;5;28;01melse\u001b[39;00m:\n\u001b[0;32m    937\u001b[0m         \u001b[38;5;28mself\u001b[39m\u001b[38;5;241m.\u001b[39m_output\u001b[38;5;241m.\u001b[39mextend(job\u001b[38;5;241m.\u001b[39mget())\n",
      "File \u001b[1;32m~\\.conda\\envs\\mineria\\lib\\site-packages\\joblib\\_parallel_backends.py:542\u001b[0m, in \u001b[0;36mLokyBackend.wrap_future_result\u001b[1;34m(future, timeout)\u001b[0m\n\u001b[0;32m    539\u001b[0m \u001b[38;5;124;03m\"\"\"Wrapper for Future.result to implement the same behaviour as\u001b[39;00m\n\u001b[0;32m    540\u001b[0m \u001b[38;5;124;03mAsyncResults.get from multiprocessing.\"\"\"\u001b[39;00m\n\u001b[0;32m    541\u001b[0m \u001b[38;5;28;01mtry\u001b[39;00m:\n\u001b[1;32m--> 542\u001b[0m     \u001b[38;5;28;01mreturn\u001b[39;00m \u001b[43mfuture\u001b[49m\u001b[38;5;241;43m.\u001b[39;49m\u001b[43mresult\u001b[49m\u001b[43m(\u001b[49m\u001b[43mtimeout\u001b[49m\u001b[38;5;241;43m=\u001b[39;49m\u001b[43mtimeout\u001b[49m\u001b[43m)\u001b[49m\n\u001b[0;32m    543\u001b[0m \u001b[38;5;28;01mexcept\u001b[39;00m CfTimeoutError \u001b[38;5;28;01mas\u001b[39;00m e:\n\u001b[0;32m    544\u001b[0m     \u001b[38;5;28;01mraise\u001b[39;00m \u001b[38;5;167;01mTimeoutError\u001b[39;00m \u001b[38;5;28;01mfrom\u001b[39;00m \u001b[38;5;21;01me\u001b[39;00m\n",
      "File \u001b[1;32m~\\.conda\\envs\\mineria\\lib\\concurrent\\futures\\_base.py:441\u001b[0m, in \u001b[0;36mFuture.result\u001b[1;34m(self, timeout)\u001b[0m\n\u001b[0;32m    438\u001b[0m \u001b[38;5;28;01melif\u001b[39;00m \u001b[38;5;28mself\u001b[39m\u001b[38;5;241m.\u001b[39m_state \u001b[38;5;241m==\u001b[39m FINISHED:\n\u001b[0;32m    439\u001b[0m     \u001b[38;5;28;01mreturn\u001b[39;00m \u001b[38;5;28mself\u001b[39m\u001b[38;5;241m.\u001b[39m__get_result()\n\u001b[1;32m--> 441\u001b[0m \u001b[38;5;28;43mself\u001b[39;49m\u001b[38;5;241;43m.\u001b[39;49m\u001b[43m_condition\u001b[49m\u001b[38;5;241;43m.\u001b[39;49m\u001b[43mwait\u001b[49m\u001b[43m(\u001b[49m\u001b[43mtimeout\u001b[49m\u001b[43m)\u001b[49m\n\u001b[0;32m    443\u001b[0m \u001b[38;5;28;01mif\u001b[39;00m \u001b[38;5;28mself\u001b[39m\u001b[38;5;241m.\u001b[39m_state \u001b[38;5;129;01min\u001b[39;00m [CANCELLED, CANCELLED_AND_NOTIFIED]:\n\u001b[0;32m    444\u001b[0m     \u001b[38;5;28;01mraise\u001b[39;00m CancelledError()\n",
      "File \u001b[1;32m~\\.conda\\envs\\mineria\\lib\\threading.py:312\u001b[0m, in \u001b[0;36mCondition.wait\u001b[1;34m(self, timeout)\u001b[0m\n\u001b[0;32m    310\u001b[0m \u001b[38;5;28;01mtry\u001b[39;00m:    \u001b[38;5;66;03m# restore state no matter what (e.g., KeyboardInterrupt)\u001b[39;00m\n\u001b[0;32m    311\u001b[0m     \u001b[38;5;28;01mif\u001b[39;00m timeout \u001b[38;5;129;01mis\u001b[39;00m \u001b[38;5;28;01mNone\u001b[39;00m:\n\u001b[1;32m--> 312\u001b[0m         \u001b[43mwaiter\u001b[49m\u001b[38;5;241;43m.\u001b[39;49m\u001b[43macquire\u001b[49m\u001b[43m(\u001b[49m\u001b[43m)\u001b[49m\n\u001b[0;32m    313\u001b[0m         gotit \u001b[38;5;241m=\u001b[39m \u001b[38;5;28;01mTrue\u001b[39;00m\n\u001b[0;32m    314\u001b[0m     \u001b[38;5;28;01melse\u001b[39;00m:\n",
      "\u001b[1;31mKeyboardInterrupt\u001b[0m: "
     ]
    }
   ],
   "source": [
    "for path in paths:\n",
    "  X_train, X_test, y_train, y_test = read_split(path,0.2)\n",
    "  ros = SMOTE(random_state=123)\n",
    "  x_ros, y_ros = ros.fit_resample(X_train,y_train)\n",
    "\n",
    "  results = []\n",
    "  names = []\n",
    "  for name, model in models:\n",
    "    model_grid = GridSearchCV(model,\n",
    "                 parameters[name],\n",
    "                 cv = 5,\n",
    "                 n_jobs = 5,\n",
    "                 verbose=True,\n",
    "                 scoring='balanced_accuracy')\n",
    "    model_grid.fit(x_ros, y_ros)\n",
    "    print(model_grid.best_params_)\n",
    "    # print(model_grid.best_score_)\n",
    "    model.parameters = model_grid.best_params_\n",
    "    #cv_results = cross_val_score(model,x_ros, y_ros, cv=5,scoring='balanced_accuracy')\n",
    "    #results.append(cv_results)\n",
    "    #names.append(name)\n",
    "    #msg= '%s: %f (%f)' %(name, cv_results.mean(), cv_results.std())\n",
    "    #print(msg)\n",
    "    model.fit(x_ros,y_ros)\n",
    "    print('ros: ',balanced_accuracy_score(y_test, model.predict(X_test)))\n",
    "    dict_models1[name]['t'].append(balanced_accuracy_score(y_test, model.predict(X_test)))\n",
    "    dict_models1[name]['size'].append(len(X_test))\n",
    "    model.fit(X_train,y_train)\n",
    "    print('noRos:',balanced_accuracy_score(y_test, model.predict(X_test)))\n",
    "    dict_models1[name]['nt'].append(balanced_accuracy_score(y_test, model.predict(X_test)))\n",
    "    print('******************')\n",
    "  # alg = str(input('Ingrese el Algoritmo deseado: '))\n",
    "  # print(dict_models[alg])\n"
   ]
  },
  {
   "cell_type": "code",
   "execution_count": 47,
   "metadata": {},
   "outputs": [
    {
     "data": {
      "text/plain": [
       "'./data\\\\data10.csv'"
      ]
     },
     "execution_count": 47,
     "metadata": {},
     "output_type": "execute_result"
    }
   ],
   "source": [
    "path"
   ]
  },
  {
   "cell_type": "code",
   "execution_count": 66,
   "metadata": {
    "colab": {
     "base_uri": "https://localhost:8080/"
    },
    "id": "Soiu_SUK4Sx3",
    "outputId": "d0fc3e5f-d4c9-48a1-c44f-6ba55f5f19ff"
   },
   "outputs": [
    {
     "data": {
      "text/plain": [
       "{'Tree': {'t': [0.6631205673758864], 'nt': [0.6482269503546099], 'size': [62]},\n",
       " 'RF': {'t': [], 'nt': [], 'size': []},\n",
       " 'KNN': {'t': [], 'nt': [], 'size': []},\n",
       " 'XGB': {'t': [], 'nt': [], 'size': []}}"
      ]
     },
     "execution_count": 66,
     "metadata": {},
     "output_type": "execute_result"
    }
   ],
   "source": [
    "dict_models1"
   ]
  },
  {
   "cell_type": "code",
   "execution_count": 59,
   "metadata": {
    "colab": {
     "base_uri": "https://localhost:8080/"
    },
    "id": "qjB77s9f413M",
    "outputId": "1193a85b-90d9-41c6-d64c-3946b6f248b1"
   },
   "outputs": [
    {
     "name": "stdout",
     "output_type": "stream",
     "text": [
      "Fitting 5 folds for each of 64 candidates, totalling 320 fits\n",
      "{'ccp_alpha': 0, 'min_impurity_decrease': 0, 'min_samples_leaf': 40, 'random_state': 123}\n",
      "Tree: 0.533429 (0.074021)\n",
      "0.6602836879432624\n",
      "noRus: 0.5709219858156028\n",
      "******************\n",
      "Fitting 5 folds for each of 128 candidates, totalling 640 fits\n",
      "{'ccp_alpha': 0, 'min_impurity_decrease': 0, 'min_samples_leaf': 20, 'n_estimators': 500, 'oob_score': False, 'random_state': 123}\n",
      "RF: 0.620302 (0.062172)\n",
      "0.5723404255319149\n",
      "noRus: 0.5936170212765958\n",
      "******************\n",
      "Fitting 5 folds for each of 60 candidates, totalling 300 fits\n",
      "{'algorithm': 'ball_tree', 'leaf_size': 30, 'n_neighbors': 3, 'p': 1}\n",
      "KNN: 0.601515 (0.027532)\n",
      "0.6815602836879433\n",
      "noRus: 0.6588652482269504\n",
      "******************\n",
      "Fitting 5 folds for each of 432 candidates, totalling 2160 fits\n"
     ]
    },
    {
     "name": "stderr",
     "output_type": "stream",
     "text": [
      "C:\\Users\\sdariza\\.conda\\envs\\mineria\\lib\\site-packages\\xgboost\\sklearn.py:1224: UserWarning: The use of label encoder in XGBClassifier is deprecated and will be removed in a future release. To remove this warning, do the following: 1) Pass option use_label_encoder=False when constructing XGBClassifier object; and 2) Encode your labels (y) as integers starting with 0, i.e. 0, 1, 2, ..., [num_class - 1].\n",
      "  warnings.warn(label_encoder_deprecation_msg, UserWarning)\n",
      "C:\\Users\\sdariza\\.conda\\envs\\mineria\\lib\\site-packages\\xgboost\\data.py:250: FutureWarning: pandas.Int64Index is deprecated and will be removed from pandas in a future version. Use pandas.Index with the appropriate dtype instead.\n",
      "  elif isinstance(data.columns, (pd.Int64Index, pd.RangeIndex)):\n",
      "C:\\Users\\sdariza\\.conda\\envs\\mineria\\lib\\site-packages\\xgboost\\sklearn.py:1224: UserWarning: The use of label encoder in XGBClassifier is deprecated and will be removed in a future release. To remove this warning, do the following: 1) Pass option use_label_encoder=False when constructing XGBClassifier object; and 2) Encode your labels (y) as integers starting with 0, i.e. 0, 1, 2, ..., [num_class - 1].\n",
      "  warnings.warn(label_encoder_deprecation_msg, UserWarning)\n",
      "C:\\Users\\sdariza\\.conda\\envs\\mineria\\lib\\site-packages\\xgboost\\data.py:250: FutureWarning: pandas.Int64Index is deprecated and will be removed from pandas in a future version. Use pandas.Index with the appropriate dtype instead.\n",
      "  elif isinstance(data.columns, (pd.Int64Index, pd.RangeIndex)):\n",
      "C:\\Users\\sdariza\\.conda\\envs\\mineria\\lib\\site-packages\\xgboost\\sklearn.py:1224: UserWarning: The use of label encoder in XGBClassifier is deprecated and will be removed in a future release. To remove this warning, do the following: 1) Pass option use_label_encoder=False when constructing XGBClassifier object; and 2) Encode your labels (y) as integers starting with 0, i.e. 0, 1, 2, ..., [num_class - 1].\n",
      "  warnings.warn(label_encoder_deprecation_msg, UserWarning)\n",
      "C:\\Users\\sdariza\\.conda\\envs\\mineria\\lib\\site-packages\\xgboost\\data.py:250: FutureWarning: pandas.Int64Index is deprecated and will be removed from pandas in a future version. Use pandas.Index with the appropriate dtype instead.\n",
      "  elif isinstance(data.columns, (pd.Int64Index, pd.RangeIndex)):\n",
      "C:\\Users\\sdariza\\.conda\\envs\\mineria\\lib\\site-packages\\xgboost\\sklearn.py:1224: UserWarning: The use of label encoder in XGBClassifier is deprecated and will be removed in a future release. To remove this warning, do the following: 1) Pass option use_label_encoder=False when constructing XGBClassifier object; and 2) Encode your labels (y) as integers starting with 0, i.e. 0, 1, 2, ..., [num_class - 1].\n",
      "  warnings.warn(label_encoder_deprecation_msg, UserWarning)\n",
      "C:\\Users\\sdariza\\.conda\\envs\\mineria\\lib\\site-packages\\xgboost\\data.py:250: FutureWarning: pandas.Int64Index is deprecated and will be removed from pandas in a future version. Use pandas.Index with the appropriate dtype instead.\n",
      "  elif isinstance(data.columns, (pd.Int64Index, pd.RangeIndex)):\n"
     ]
    },
    {
     "name": "stdout",
     "output_type": "stream",
     "text": [
      "{'colsample_bytree': 1, 'learning_rate': 0.5, 'min_child_weight': 3, 'n_estimators': 100, 'random_state': 123, 'subsample': 0.5, 'verbosity': 0}\n"
     ]
    },
    {
     "name": "stderr",
     "output_type": "stream",
     "text": [
      "C:\\Users\\sdariza\\.conda\\envs\\mineria\\lib\\site-packages\\xgboost\\sklearn.py:1224: UserWarning: The use of label encoder in XGBClassifier is deprecated and will be removed in a future release. To remove this warning, do the following: 1) Pass option use_label_encoder=False when constructing XGBClassifier object; and 2) Encode your labels (y) as integers starting with 0, i.e. 0, 1, 2, ..., [num_class - 1].\n",
      "  warnings.warn(label_encoder_deprecation_msg, UserWarning)\n",
      "C:\\Users\\sdariza\\.conda\\envs\\mineria\\lib\\site-packages\\xgboost\\data.py:250: FutureWarning: pandas.Int64Index is deprecated and will be removed from pandas in a future version. Use pandas.Index with the appropriate dtype instead.\n",
      "  elif isinstance(data.columns, (pd.Int64Index, pd.RangeIndex)):\n",
      "C:\\Users\\sdariza\\.conda\\envs\\mineria\\lib\\site-packages\\xgboost\\sklearn.py:1224: UserWarning: The use of label encoder in XGBClassifier is deprecated and will be removed in a future release. To remove this warning, do the following: 1) Pass option use_label_encoder=False when constructing XGBClassifier object; and 2) Encode your labels (y) as integers starting with 0, i.e. 0, 1, 2, ..., [num_class - 1].\n",
      "  warnings.warn(label_encoder_deprecation_msg, UserWarning)\n",
      "C:\\Users\\sdariza\\.conda\\envs\\mineria\\lib\\site-packages\\xgboost\\data.py:250: FutureWarning: pandas.Int64Index is deprecated and will be removed from pandas in a future version. Use pandas.Index with the appropriate dtype instead.\n",
      "  elif isinstance(data.columns, (pd.Int64Index, pd.RangeIndex)):\n",
      "C:\\Users\\sdariza\\.conda\\envs\\mineria\\lib\\site-packages\\xgboost\\sklearn.py:1224: UserWarning: The use of label encoder in XGBClassifier is deprecated and will be removed in a future release. To remove this warning, do the following: 1) Pass option use_label_encoder=False when constructing XGBClassifier object; and 2) Encode your labels (y) as integers starting with 0, i.e. 0, 1, 2, ..., [num_class - 1].\n",
      "  warnings.warn(label_encoder_deprecation_msg, UserWarning)\n",
      "C:\\Users\\sdariza\\.conda\\envs\\mineria\\lib\\site-packages\\xgboost\\data.py:250: FutureWarning: pandas.Int64Index is deprecated and will be removed from pandas in a future version. Use pandas.Index with the appropriate dtype instead.\n",
      "  elif isinstance(data.columns, (pd.Int64Index, pd.RangeIndex)):\n",
      "C:\\Users\\sdariza\\.conda\\envs\\mineria\\lib\\site-packages\\xgboost\\sklearn.py:1224: UserWarning: The use of label encoder in XGBClassifier is deprecated and will be removed in a future release. To remove this warning, do the following: 1) Pass option use_label_encoder=False when constructing XGBClassifier object; and 2) Encode your labels (y) as integers starting with 0, i.e. 0, 1, 2, ..., [num_class - 1].\n",
      "  warnings.warn(label_encoder_deprecation_msg, UserWarning)\n",
      "C:\\Users\\sdariza\\.conda\\envs\\mineria\\lib\\site-packages\\xgboost\\data.py:250: FutureWarning: pandas.Int64Index is deprecated and will be removed from pandas in a future version. Use pandas.Index with the appropriate dtype instead.\n",
      "  elif isinstance(data.columns, (pd.Int64Index, pd.RangeIndex)):\n"
     ]
    },
    {
     "name": "stdout",
     "output_type": "stream",
     "text": [
      "XGB: 0.612623 (0.040460)\n",
      "0.5418439716312057\n",
      "noRus: 0.5617021276595745\n",
      "******************\n",
      "Fitting 5 folds for each of 64 candidates, totalling 320 fits\n",
      "{'ccp_alpha': 0, 'min_impurity_decrease': 0, 'min_samples_leaf': 20, 'random_state': 123}\n",
      "Tree: 0.846669 (0.109220)\n",
      "0.9939759036144578\n",
      "noRus: 0.9939759036144578\n",
      "******************\n",
      "Fitting 5 folds for each of 128 candidates, totalling 640 fits\n",
      "{'ccp_alpha': 0, 'min_impurity_decrease': 0, 'min_samples_leaf': 20, 'n_estimators': 500, 'oob_score': False, 'random_state': 123}\n",
      "RF: 0.860635 (0.110276)\n",
      "0.9939759036144578\n",
      "noRus: 0.9939759036144578\n",
      "******************\n",
      "Fitting 5 folds for each of 60 candidates, totalling 300 fits\n",
      "{'algorithm': 'ball_tree', 'leaf_size': 40, 'n_neighbors': 5, 'p': 1}\n",
      "KNN: 0.825764 (0.083082)\n",
      "0.9879518072289157\n",
      "noRus: 0.9879518072289157\n",
      "******************\n",
      "Fitting 5 folds for each of 432 candidates, totalling 2160 fits\n"
     ]
    },
    {
     "name": "stderr",
     "output_type": "stream",
     "text": [
      "C:\\Users\\sdariza\\.conda\\envs\\mineria\\lib\\site-packages\\xgboost\\sklearn.py:1224: UserWarning: The use of label encoder in XGBClassifier is deprecated and will be removed in a future release. To remove this warning, do the following: 1) Pass option use_label_encoder=False when constructing XGBClassifier object; and 2) Encode your labels (y) as integers starting with 0, i.e. 0, 1, 2, ..., [num_class - 1].\n",
      "  warnings.warn(label_encoder_deprecation_msg, UserWarning)\n",
      "C:\\Users\\sdariza\\.conda\\envs\\mineria\\lib\\site-packages\\xgboost\\data.py:250: FutureWarning: pandas.Int64Index is deprecated and will be removed from pandas in a future version. Use pandas.Index with the appropriate dtype instead.\n",
      "  elif isinstance(data.columns, (pd.Int64Index, pd.RangeIndex)):\n",
      "C:\\Users\\sdariza\\.conda\\envs\\mineria\\lib\\site-packages\\xgboost\\sklearn.py:1224: UserWarning: The use of label encoder in XGBClassifier is deprecated and will be removed in a future release. To remove this warning, do the following: 1) Pass option use_label_encoder=False when constructing XGBClassifier object; and 2) Encode your labels (y) as integers starting with 0, i.e. 0, 1, 2, ..., [num_class - 1].\n",
      "  warnings.warn(label_encoder_deprecation_msg, UserWarning)\n",
      "C:\\Users\\sdariza\\.conda\\envs\\mineria\\lib\\site-packages\\xgboost\\data.py:250: FutureWarning: pandas.Int64Index is deprecated and will be removed from pandas in a future version. Use pandas.Index with the appropriate dtype instead.\n",
      "  elif isinstance(data.columns, (pd.Int64Index, pd.RangeIndex)):\n",
      "C:\\Users\\sdariza\\.conda\\envs\\mineria\\lib\\site-packages\\xgboost\\sklearn.py:1224: UserWarning: The use of label encoder in XGBClassifier is deprecated and will be removed in a future release. To remove this warning, do the following: 1) Pass option use_label_encoder=False when constructing XGBClassifier object; and 2) Encode your labels (y) as integers starting with 0, i.e. 0, 1, 2, ..., [num_class - 1].\n",
      "  warnings.warn(label_encoder_deprecation_msg, UserWarning)\n",
      "C:\\Users\\sdariza\\.conda\\envs\\mineria\\lib\\site-packages\\xgboost\\data.py:250: FutureWarning: pandas.Int64Index is deprecated and will be removed from pandas in a future version. Use pandas.Index with the appropriate dtype instead.\n",
      "  elif isinstance(data.columns, (pd.Int64Index, pd.RangeIndex)):\n"
     ]
    },
    {
     "name": "stdout",
     "output_type": "stream",
     "text": [
      "{'colsample_bytree': 0.7, 'learning_rate': 0.5, 'min_child_weight': 3, 'n_estimators': 500, 'random_state': 123, 'subsample': 0.5, 'verbosity': 0}\n",
      "XGB: 0.833602 (0.125795)\n"
     ]
    },
    {
     "name": "stderr",
     "output_type": "stream",
     "text": [
      "C:\\Users\\sdariza\\.conda\\envs\\mineria\\lib\\site-packages\\xgboost\\sklearn.py:1224: UserWarning: The use of label encoder in XGBClassifier is deprecated and will be removed in a future release. To remove this warning, do the following: 1) Pass option use_label_encoder=False when constructing XGBClassifier object; and 2) Encode your labels (y) as integers starting with 0, i.e. 0, 1, 2, ..., [num_class - 1].\n",
      "  warnings.warn(label_encoder_deprecation_msg, UserWarning)\n",
      "C:\\Users\\sdariza\\.conda\\envs\\mineria\\lib\\site-packages\\xgboost\\data.py:250: FutureWarning: pandas.Int64Index is deprecated and will be removed from pandas in a future version. Use pandas.Index with the appropriate dtype instead.\n",
      "  elif isinstance(data.columns, (pd.Int64Index, pd.RangeIndex)):\n",
      "C:\\Users\\sdariza\\.conda\\envs\\mineria\\lib\\site-packages\\xgboost\\sklearn.py:1224: UserWarning: The use of label encoder in XGBClassifier is deprecated and will be removed in a future release. To remove this warning, do the following: 1) Pass option use_label_encoder=False when constructing XGBClassifier object; and 2) Encode your labels (y) as integers starting with 0, i.e. 0, 1, 2, ..., [num_class - 1].\n",
      "  warnings.warn(label_encoder_deprecation_msg, UserWarning)\n",
      "C:\\Users\\sdariza\\.conda\\envs\\mineria\\lib\\site-packages\\xgboost\\data.py:250: FutureWarning: pandas.Int64Index is deprecated and will be removed from pandas in a future version. Use pandas.Index with the appropriate dtype instead.\n",
      "  elif isinstance(data.columns, (pd.Int64Index, pd.RangeIndex)):\n",
      "C:\\Users\\sdariza\\.conda\\envs\\mineria\\lib\\site-packages\\xgboost\\sklearn.py:1224: UserWarning: The use of label encoder in XGBClassifier is deprecated and will be removed in a future release. To remove this warning, do the following: 1) Pass option use_label_encoder=False when constructing XGBClassifier object; and 2) Encode your labels (y) as integers starting with 0, i.e. 0, 1, 2, ..., [num_class - 1].\n",
      "  warnings.warn(label_encoder_deprecation_msg, UserWarning)\n",
      "C:\\Users\\sdariza\\.conda\\envs\\mineria\\lib\\site-packages\\xgboost\\data.py:250: FutureWarning: pandas.Int64Index is deprecated and will be removed from pandas in a future version. Use pandas.Index with the appropriate dtype instead.\n",
      "  elif isinstance(data.columns, (pd.Int64Index, pd.RangeIndex)):\n",
      "C:\\Users\\sdariza\\.conda\\envs\\mineria\\lib\\site-packages\\xgboost\\sklearn.py:1224: UserWarning: The use of label encoder in XGBClassifier is deprecated and will be removed in a future release. To remove this warning, do the following: 1) Pass option use_label_encoder=False when constructing XGBClassifier object; and 2) Encode your labels (y) as integers starting with 0, i.e. 0, 1, 2, ..., [num_class - 1].\n",
      "  warnings.warn(label_encoder_deprecation_msg, UserWarning)\n",
      "C:\\Users\\sdariza\\.conda\\envs\\mineria\\lib\\site-packages\\xgboost\\data.py:250: FutureWarning: pandas.Int64Index is deprecated and will be removed from pandas in a future version. Use pandas.Index with the appropriate dtype instead.\n",
      "  elif isinstance(data.columns, (pd.Int64Index, pd.RangeIndex)):\n",
      "C:\\Users\\sdariza\\.conda\\envs\\mineria\\lib\\site-packages\\xgboost\\sklearn.py:1224: UserWarning: The use of label encoder in XGBClassifier is deprecated and will be removed in a future release. To remove this warning, do the following: 1) Pass option use_label_encoder=False when constructing XGBClassifier object; and 2) Encode your labels (y) as integers starting with 0, i.e. 0, 1, 2, ..., [num_class - 1].\n",
      "  warnings.warn(label_encoder_deprecation_msg, UserWarning)\n",
      "C:\\Users\\sdariza\\.conda\\envs\\mineria\\lib\\site-packages\\xgboost\\data.py:250: FutureWarning: pandas.Int64Index is deprecated and will be removed from pandas in a future version. Use pandas.Index with the appropriate dtype instead.\n",
      "  elif isinstance(data.columns, (pd.Int64Index, pd.RangeIndex)):\n"
     ]
    },
    {
     "name": "stdout",
     "output_type": "stream",
     "text": [
      "0.9939759036144578\n",
      "noRus: 0.9939759036144578\n",
      "******************\n",
      "Fitting 5 folds for each of 64 candidates, totalling 320 fits\n",
      "{'ccp_alpha': 0, 'min_impurity_decrease': 0.01, 'min_samples_leaf': 50, 'random_state': 123}\n",
      "Tree: 0.909783 (0.019033)\n",
      "0.9206502494769033\n",
      "noRus: 0.9172836525564676\n",
      "******************\n",
      "Fitting 5 folds for each of 128 candidates, totalling 640 fits\n",
      "{'ccp_alpha': 0, 'min_impurity_decrease': 0, 'min_samples_leaf': 20, 'n_estimators': 500, 'oob_score': False, 'random_state': 123}\n",
      "RF: 0.935456 (0.016157)\n",
      "0.9505338269220451\n",
      "noRus: 0.9461478620097645\n",
      "******************\n",
      "Fitting 5 folds for each of 60 candidates, totalling 300 fits\n",
      "{'algorithm': 'ball_tree', 'leaf_size': 30, 'n_neighbors': 3, 'p': 1}\n",
      "KNN: 0.836964 (0.027881)\n",
      "0.8558801437845378\n",
      "noRus: 0.8574091957723053\n",
      "******************\n",
      "Fitting 5 folds for each of 432 candidates, totalling 2160 fits\n"
     ]
    },
    {
     "name": "stderr",
     "output_type": "stream",
     "text": [
      "C:\\Users\\sdariza\\.conda\\envs\\mineria\\lib\\site-packages\\xgboost\\sklearn.py:1224: UserWarning: The use of label encoder in XGBClassifier is deprecated and will be removed in a future release. To remove this warning, do the following: 1) Pass option use_label_encoder=False when constructing XGBClassifier object; and 2) Encode your labels (y) as integers starting with 0, i.e. 0, 1, 2, ..., [num_class - 1].\n",
      "  warnings.warn(label_encoder_deprecation_msg, UserWarning)\n",
      "C:\\Users\\sdariza\\.conda\\envs\\mineria\\lib\\site-packages\\xgboost\\data.py:250: FutureWarning: pandas.Int64Index is deprecated and will be removed from pandas in a future version. Use pandas.Index with the appropriate dtype instead.\n",
      "  elif isinstance(data.columns, (pd.Int64Index, pd.RangeIndex)):\n"
     ]
    },
    {
     "name": "stdout",
     "output_type": "stream",
     "text": [
      "{'colsample_bytree': 0.9, 'learning_rate': 0.5, 'min_child_weight': 3, 'n_estimators': 100, 'random_state': 123, 'subsample': 0.8, 'verbosity': 0}\n"
     ]
    },
    {
     "name": "stderr",
     "output_type": "stream",
     "text": [
      "C:\\Users\\sdariza\\.conda\\envs\\mineria\\lib\\site-packages\\xgboost\\sklearn.py:1224: UserWarning: The use of label encoder in XGBClassifier is deprecated and will be removed in a future release. To remove this warning, do the following: 1) Pass option use_label_encoder=False when constructing XGBClassifier object; and 2) Encode your labels (y) as integers starting with 0, i.e. 0, 1, 2, ..., [num_class - 1].\n",
      "  warnings.warn(label_encoder_deprecation_msg, UserWarning)\n",
      "C:\\Users\\sdariza\\.conda\\envs\\mineria\\lib\\site-packages\\xgboost\\data.py:250: FutureWarning: pandas.Int64Index is deprecated and will be removed from pandas in a future version. Use pandas.Index with the appropriate dtype instead.\n",
      "  elif isinstance(data.columns, (pd.Int64Index, pd.RangeIndex)):\n",
      "C:\\Users\\sdariza\\.conda\\envs\\mineria\\lib\\site-packages\\xgboost\\sklearn.py:1224: UserWarning: The use of label encoder in XGBClassifier is deprecated and will be removed in a future release. To remove this warning, do the following: 1) Pass option use_label_encoder=False when constructing XGBClassifier object; and 2) Encode your labels (y) as integers starting with 0, i.e. 0, 1, 2, ..., [num_class - 1].\n",
      "  warnings.warn(label_encoder_deprecation_msg, UserWarning)\n",
      "C:\\Users\\sdariza\\.conda\\envs\\mineria\\lib\\site-packages\\xgboost\\data.py:250: FutureWarning: pandas.Int64Index is deprecated and will be removed from pandas in a future version. Use pandas.Index with the appropriate dtype instead.\n",
      "  elif isinstance(data.columns, (pd.Int64Index, pd.RangeIndex)):\n",
      "C:\\Users\\sdariza\\.conda\\envs\\mineria\\lib\\site-packages\\xgboost\\sklearn.py:1224: UserWarning: The use of label encoder in XGBClassifier is deprecated and will be removed in a future release. To remove this warning, do the following: 1) Pass option use_label_encoder=False when constructing XGBClassifier object; and 2) Encode your labels (y) as integers starting with 0, i.e. 0, 1, 2, ..., [num_class - 1].\n",
      "  warnings.warn(label_encoder_deprecation_msg, UserWarning)\n",
      "C:\\Users\\sdariza\\.conda\\envs\\mineria\\lib\\site-packages\\xgboost\\data.py:250: FutureWarning: pandas.Int64Index is deprecated and will be removed from pandas in a future version. Use pandas.Index with the appropriate dtype instead.\n",
      "  elif isinstance(data.columns, (pd.Int64Index, pd.RangeIndex)):\n",
      "C:\\Users\\sdariza\\.conda\\envs\\mineria\\lib\\site-packages\\xgboost\\sklearn.py:1224: UserWarning: The use of label encoder in XGBClassifier is deprecated and will be removed in a future release. To remove this warning, do the following: 1) Pass option use_label_encoder=False when constructing XGBClassifier object; and 2) Encode your labels (y) as integers starting with 0, i.e. 0, 1, 2, ..., [num_class - 1].\n",
      "  warnings.warn(label_encoder_deprecation_msg, UserWarning)\n",
      "C:\\Users\\sdariza\\.conda\\envs\\mineria\\lib\\site-packages\\xgboost\\data.py:250: FutureWarning: pandas.Int64Index is deprecated and will be removed from pandas in a future version. Use pandas.Index with the appropriate dtype instead.\n",
      "  elif isinstance(data.columns, (pd.Int64Index, pd.RangeIndex)):\n",
      "C:\\Users\\sdariza\\.conda\\envs\\mineria\\lib\\site-packages\\xgboost\\sklearn.py:1224: UserWarning: The use of label encoder in XGBClassifier is deprecated and will be removed in a future release. To remove this warning, do the following: 1) Pass option use_label_encoder=False when constructing XGBClassifier object; and 2) Encode your labels (y) as integers starting with 0, i.e. 0, 1, 2, ..., [num_class - 1].\n",
      "  warnings.warn(label_encoder_deprecation_msg, UserWarning)\n",
      "C:\\Users\\sdariza\\.conda\\envs\\mineria\\lib\\site-packages\\xgboost\\data.py:250: FutureWarning: pandas.Int64Index is deprecated and will be removed from pandas in a future version. Use pandas.Index with the appropriate dtype instead.\n",
      "  elif isinstance(data.columns, (pd.Int64Index, pd.RangeIndex)):\n"
     ]
    },
    {
     "name": "stdout",
     "output_type": "stream",
     "text": [
      "XGB: 0.932568 (0.014843)\n"
     ]
    },
    {
     "name": "stderr",
     "output_type": "stream",
     "text": [
      "C:\\Users\\sdariza\\.conda\\envs\\mineria\\lib\\site-packages\\xgboost\\sklearn.py:1224: UserWarning: The use of label encoder in XGBClassifier is deprecated and will be removed in a future release. To remove this warning, do the following: 1) Pass option use_label_encoder=False when constructing XGBClassifier object; and 2) Encode your labels (y) as integers starting with 0, i.e. 0, 1, 2, ..., [num_class - 1].\n",
      "  warnings.warn(label_encoder_deprecation_msg, UserWarning)\n",
      "C:\\Users\\sdariza\\.conda\\envs\\mineria\\lib\\site-packages\\xgboost\\data.py:250: FutureWarning: pandas.Int64Index is deprecated and will be removed from pandas in a future version. Use pandas.Index with the appropriate dtype instead.\n",
      "  elif isinstance(data.columns, (pd.Int64Index, pd.RangeIndex)):\n"
     ]
    },
    {
     "name": "stdout",
     "output_type": "stream",
     "text": [
      "0.9631820376629647\n"
     ]
    },
    {
     "name": "stderr",
     "output_type": "stream",
     "text": [
      "C:\\Users\\sdariza\\.conda\\envs\\mineria\\lib\\site-packages\\xgboost\\sklearn.py:1224: UserWarning: The use of label encoder in XGBClassifier is deprecated and will be removed in a future release. To remove this warning, do the following: 1) Pass option use_label_encoder=False when constructing XGBClassifier object; and 2) Encode your labels (y) as integers starting with 0, i.e. 0, 1, 2, ..., [num_class - 1].\n",
      "  warnings.warn(label_encoder_deprecation_msg, UserWarning)\n",
      "C:\\Users\\sdariza\\.conda\\envs\\mineria\\lib\\site-packages\\xgboost\\data.py:250: FutureWarning: pandas.Int64Index is deprecated and will be removed from pandas in a future version. Use pandas.Index with the appropriate dtype instead.\n",
      "  elif isinstance(data.columns, (pd.Int64Index, pd.RangeIndex)):\n"
     ]
    },
    {
     "name": "stdout",
     "output_type": "stream",
     "text": [
      "noRus: 0.9461478620097645\n",
      "******************\n",
      "Fitting 5 folds for each of 64 candidates, totalling 320 fits\n",
      "{'ccp_alpha': 0, 'min_impurity_decrease': 0, 'min_samples_leaf': 20, 'random_state': 123}\n",
      "Tree: 0.706202 (0.024440)\n",
      "0.718625177954037\n"
     ]
    },
    {
     "name": "stderr",
     "output_type": "stream",
     "text": [
      "exception calling callback for <Future at 0x22a05e99b20 state=finished raised BrokenProcessPool>\n",
      "joblib.externals.loky.process_executor._RemoteTraceback: \n",
      "\"\"\"\n",
      "Traceback (most recent call last):\n",
      "  File \"C:\\Users\\sdariza\\.conda\\envs\\mineria\\lib\\site-packages\\joblib\\externals\\loky\\process_executor.py\", line 407, in _process_worker\n",
      "    call_item = call_queue.get(block=True, timeout=timeout)\n",
      "  File \"C:\\Users\\sdariza\\.conda\\envs\\mineria\\lib\\multiprocessing\\queues.py\", line 122, in get\n",
      "    return _ForkingPickler.loads(res)\n",
      "  File \"C:\\Users\\sdariza\\.conda\\envs\\mineria\\lib\\site-packages\\joblib\\numpy_pickle.py\", line 526, in load_temporary_memmap\n",
      "    obj = load(filename, mmap_mode)\n",
      "  File \"C:\\Users\\sdariza\\.conda\\envs\\mineria\\lib\\site-packages\\joblib\\numpy_pickle.py\", line 587, in load\n",
      "    obj = _unpickle(fobj, filename, mmap_mode)\n",
      "  File \"C:\\Users\\sdariza\\.conda\\envs\\mineria\\lib\\site-packages\\joblib\\numpy_pickle.py\", line 506, in _unpickle\n",
      "    obj = unpickler.load()\n",
      "  File \"C:\\Users\\sdariza\\.conda\\envs\\mineria\\lib\\pickle.py\", line 1212, in load\n",
      "    dispatch[key[0]](self)\n",
      "KeyError: 0\n",
      "\"\"\"\n",
      "\n",
      "The above exception was the direct cause of the following exception:\n",
      "\n",
      "Traceback (most recent call last):\n",
      "  File \"C:\\Users\\sdariza\\.conda\\envs\\mineria\\lib\\site-packages\\joblib\\externals\\loky\\_base.py\", line 26, in _invoke_callbacks\n",
      "    from concurrent.futures import FIRST_EXCEPTION\n",
      "  File \"C:\\Users\\sdariza\\.conda\\envs\\mineria\\lib\\site-packages\\joblib\\parallel.py\", line 385, in __call__\n",
      "    def effective_n_jobs(n_jobs=-1):\n",
      "  File \"C:\\Users\\sdariza\\.conda\\envs\\mineria\\lib\\site-packages\\joblib\\parallel.py\", line 834, in dispatch_next\n",
      "    if len(islice) == 0:\n",
      "  File \"C:\\Users\\sdariza\\.conda\\envs\\mineria\\lib\\site-packages\\joblib\\parallel.py\", line 901, in dispatch_one_batch\n",
      "    if not index == 0:\n",
      "  File \"C:\\Users\\sdariza\\.conda\\envs\\mineria\\lib\\site-packages\\joblib\\parallel.py\", line 819, in _dispatch\n",
      "    # queue, _ready_batches, that is looked-up prior to re-consuming\n",
      "  File \"C:\\Users\\sdariza\\.conda\\envs\\mineria\\lib\\site-packages\\joblib\\_parallel_backends.py\", line 556, in apply_async\n",
      "    self.reset_batch_stats()\n",
      "  File \"C:\\Users\\sdariza\\.conda\\envs\\mineria\\lib\\site-packages\\joblib\\externals\\loky\\reusable_executor.py\", line 176, in submit\n",
      "    with self._submit_resize_lock:\n",
      "  File \"C:\\Users\\sdariza\\.conda\\envs\\mineria\\lib\\site-packages\\joblib\\externals\\loky\\process_executor.py\", line 1129, in submit\n",
      "    self._pending_work_items[self._queue_count] = w\n",
      "joblib.externals.loky.process_executor.BrokenProcessPool: A task has failed to un-serialize. Please ensure that the arguments of the function are all picklable.\n"
     ]
    },
    {
     "name": "stdout",
     "output_type": "stream",
     "text": [
      "noRus: 0.7030364043115721\n",
      "******************\n",
      "Fitting 5 folds for each of 128 candidates, totalling 640 fits\n",
      "Unexpected exception formatting exception. Falling back to standard exception\n"
     ]
    },
    {
     "name": "stderr",
     "output_type": "stream",
     "text": [
      "joblib.externals.loky.process_executor._RemoteTraceback: \n",
      "\"\"\"\n",
      "Traceback (most recent call last):\n",
      "  File \"C:\\Users\\sdariza\\.conda\\envs\\mineria\\lib\\site-packages\\joblib\\externals\\loky\\process_executor.py\", line 407, in _process_worker\n",
      "    call_item = call_queue.get(block=True, timeout=timeout)\n",
      "  File \"C:\\Users\\sdariza\\.conda\\envs\\mineria\\lib\\multiprocessing\\queues.py\", line 122, in get\n",
      "    return _ForkingPickler.loads(res)\n",
      "  File \"C:\\Users\\sdariza\\.conda\\envs\\mineria\\lib\\site-packages\\joblib\\numpy_pickle.py\", line 526, in load_temporary_memmap\n",
      "    obj = load(filename, mmap_mode)\n",
      "  File \"C:\\Users\\sdariza\\.conda\\envs\\mineria\\lib\\site-packages\\joblib\\numpy_pickle.py\", line 587, in load\n",
      "    obj = _unpickle(fobj, filename, mmap_mode)\n",
      "  File \"C:\\Users\\sdariza\\.conda\\envs\\mineria\\lib\\site-packages\\joblib\\numpy_pickle.py\", line 506, in _unpickle\n",
      "    obj = unpickler.load()\n",
      "  File \"C:\\Users\\sdariza\\.conda\\envs\\mineria\\lib\\pickle.py\", line 1212, in load\n",
      "    dispatch[key[0]](self)\n",
      "KeyError: 0\n",
      "\"\"\"\n",
      "\n",
      "The above exception was the direct cause of the following exception:\n",
      "\n",
      "Traceback (most recent call last):\n",
      "  File \"C:\\Users\\sdariza\\.conda\\envs\\mineria\\lib\\site-packages\\IPython\\core\\interactiveshell.py\", line 3398, in run_code\n",
      "    exec(code_obj, self.user_global_ns, self.user_ns)\n",
      "  File \"C:\\Users\\sdariza\\AppData\\Local\\Temp\\4\\ipykernel_10636\\2196075363.py\", line 15, in <cell line: 1>\n",
      "    model_grid.fit(x_rus, y_rus)\n",
      "  File \"C:\\Users\\sdariza\\.conda\\envs\\mineria\\lib\\site-packages\\sklearn\\model_selection\\_search.py\", line 891, in fit\n",
      "    self._run_search(evaluate_candidates)\n",
      "  File \"C:\\Users\\sdariza\\.conda\\envs\\mineria\\lib\\site-packages\\sklearn\\model_selection\\_search.py\", line 1392, in _run_search\n",
      "    evaluate_candidates(ParameterGrid(self.param_grid))\n",
      "  File \"C:\\Users\\sdariza\\.conda\\envs\\mineria\\lib\\site-packages\\sklearn\\model_selection\\_search.py\", line 838, in evaluate_candidates\n",
      "    out = parallel(\n",
      "  File \"C:\\Users\\sdariza\\.conda\\envs\\mineria\\lib\\site-packages\\joblib\\parallel.py\", line 1098, in __call__\n",
      "  File \"C:\\Users\\sdariza\\.conda\\envs\\mineria\\lib\\site-packages\\joblib\\parallel.py\", line 975, in retrieve\n",
      "    # specific to this Parallel object when pickling temporary memmaps.\n",
      "  File \"C:\\Users\\sdariza\\.conda\\envs\\mineria\\lib\\site-packages\\joblib\\_parallel_backends.py\", line 567, in wrap_future_result\n",
      "  File \"C:\\Users\\sdariza\\.conda\\envs\\mineria\\lib\\concurrent\\futures\\_base.py\", line 446, in result\n",
      "    return self.__get_result()\n",
      "  File \"C:\\Users\\sdariza\\.conda\\envs\\mineria\\lib\\concurrent\\futures\\_base.py\", line 391, in __get_result\n",
      "    raise self._exception\n",
      "  File \"C:\\Users\\sdariza\\.conda\\envs\\mineria\\lib\\site-packages\\joblib\\externals\\loky\\_base.py\", line 26, in _invoke_callbacks\n",
      "    from concurrent.futures import FIRST_EXCEPTION\n",
      "  File \"C:\\Users\\sdariza\\.conda\\envs\\mineria\\lib\\site-packages\\joblib\\parallel.py\", line 385, in __call__\n",
      "    def effective_n_jobs(n_jobs=-1):\n",
      "  File \"C:\\Users\\sdariza\\.conda\\envs\\mineria\\lib\\site-packages\\joblib\\parallel.py\", line 834, in dispatch_next\n",
      "    if len(islice) == 0:\n",
      "  File \"C:\\Users\\sdariza\\.conda\\envs\\mineria\\lib\\site-packages\\joblib\\parallel.py\", line 901, in dispatch_one_batch\n",
      "    if not index == 0:\n",
      "  File \"C:\\Users\\sdariza\\.conda\\envs\\mineria\\lib\\site-packages\\joblib\\parallel.py\", line 819, in _dispatch\n",
      "    # queue, _ready_batches, that is looked-up prior to re-consuming\n",
      "  File \"C:\\Users\\sdariza\\.conda\\envs\\mineria\\lib\\site-packages\\joblib\\_parallel_backends.py\", line 556, in apply_async\n",
      "    self.reset_batch_stats()\n",
      "  File \"C:\\Users\\sdariza\\.conda\\envs\\mineria\\lib\\site-packages\\joblib\\externals\\loky\\reusable_executor.py\", line 176, in submit\n",
      "    with self._submit_resize_lock:\n",
      "  File \"C:\\Users\\sdariza\\.conda\\envs\\mineria\\lib\\site-packages\\joblib\\externals\\loky\\process_executor.py\", line 1129, in submit\n",
      "    self._pending_work_items[self._queue_count] = w\n",
      "joblib.externals.loky.process_executor.BrokenProcessPool: A task has failed to un-serialize. Please ensure that the arguments of the function are all picklable.\n",
      "\n",
      "During handling of the above exception, another exception occurred:\n",
      "\n",
      "Traceback (most recent call last):\n",
      "  File \"C:\\Users\\sdariza\\.conda\\envs\\mineria\\lib\\site-packages\\IPython\\core\\interactiveshell.py\", line 1993, in showtraceback\n",
      "    stb = self.InteractiveTB.structured_traceback(\n",
      "  File \"C:\\Users\\sdariza\\.conda\\envs\\mineria\\lib\\site-packages\\IPython\\core\\ultratb.py\", line 1118, in structured_traceback\n",
      "    return FormattedTB.structured_traceback(\n",
      "  File \"C:\\Users\\sdariza\\.conda\\envs\\mineria\\lib\\site-packages\\IPython\\core\\ultratb.py\", line 1012, in structured_traceback\n",
      "    return VerboseTB.structured_traceback(\n",
      "  File \"C:\\Users\\sdariza\\.conda\\envs\\mineria\\lib\\site-packages\\IPython\\core\\ultratb.py\", line 865, in structured_traceback\n",
      "    formatted_exception = self.format_exception_as_a_whole(etype, evalue, etb, number_of_lines_of_context,\n",
      "  File \"C:\\Users\\sdariza\\.conda\\envs\\mineria\\lib\\site-packages\\IPython\\core\\ultratb.py\", line 818, in format_exception_as_a_whole\n",
      "    frames.append(self.format_record(r))\n",
      "  File \"C:\\Users\\sdariza\\.conda\\envs\\mineria\\lib\\site-packages\\IPython\\core\\ultratb.py\", line 736, in format_record\n",
      "    result += ''.join(_format_traceback_lines(frame_info.lines, Colors, self.has_colors, lvals))\n",
      "  File \"C:\\Users\\sdariza\\.conda\\envs\\mineria\\lib\\site-packages\\stack_data\\utils.py\", line 145, in cached_property_wrapper\n",
      "    value = obj.__dict__[self.func.__name__] = self.func(obj)\n",
      "  File \"C:\\Users\\sdariza\\.conda\\envs\\mineria\\lib\\site-packages\\stack_data\\core.py\", line 698, in lines\n",
      "    pieces = self.included_pieces\n",
      "  File \"C:\\Users\\sdariza\\.conda\\envs\\mineria\\lib\\site-packages\\stack_data\\utils.py\", line 145, in cached_property_wrapper\n",
      "    value = obj.__dict__[self.func.__name__] = self.func(obj)\n",
      "  File \"C:\\Users\\sdariza\\.conda\\envs\\mineria\\lib\\site-packages\\stack_data\\core.py\", line 649, in included_pieces\n",
      "    pos = scope_pieces.index(self.executing_piece)\n",
      "  File \"C:\\Users\\sdariza\\.conda\\envs\\mineria\\lib\\site-packages\\stack_data\\utils.py\", line 145, in cached_property_wrapper\n",
      "    value = obj.__dict__[self.func.__name__] = self.func(obj)\n",
      "  File \"C:\\Users\\sdariza\\.conda\\envs\\mineria\\lib\\site-packages\\stack_data\\core.py\", line 628, in executing_piece\n",
      "    return only(\n",
      "  File \"C:\\Users\\sdariza\\.conda\\envs\\mineria\\lib\\site-packages\\executing\\executing.py\", line 164, in only\n",
      "    raise NotOneValueFound('Expected one value, found 0')\n",
      "executing.executing.NotOneValueFound: Expected one value, found 0\n"
     ]
    }
   ],
   "source": [
    "for path in paths:\n",
    "  X_train, X_test, y_train, y_test = read_split(path,0.2)\n",
    "  rus = TomekLinks()\n",
    "  x_rus, y_rus = rus.fit_resample(X_train,y_train)\n",
    "\n",
    "  results = []\n",
    "  names = []\n",
    "  for name, model in models:\n",
    "    model_grid = GridSearchCV(model,\n",
    "                 parameters[name],\n",
    "                 cv = 5,\n",
    "                 n_jobs = 5,\n",
    "                 verbose=True,\n",
    "                 scoring='balanced_accuracy')\n",
    "    model_grid.fit(x_rus, y_rus)\n",
    "    print(model_grid.best_params_)\n",
    "    # print(model_grid.best_score_)\n",
    "    model.parameters = model_grid.best_params_\n",
    "    cv_results = cross_val_score(model,x_rus, y_rus, cv=5,scoring='balanced_accuracy')\n",
    "    results.append(cv_results)\n",
    "    names.append(name)\n",
    "    msg= '%s: %f (%f)' %(name, cv_results.mean(), cv_results.std())\n",
    "    print(msg)\n",
    "    model.fit(x_rus,y_rus)\n",
    "    print(balanced_accuracy_score(y_test, model.predict(X_test)))\n",
    "    dict_models2[name]['t'].append(balanced_accuracy_score(y_test, model.predict(X_test)))\n",
    "    model.fit(X_train,y_train)\n",
    "    print('noRus:',balanced_accuracy_score(y_test, model.predict(X_test)))\n",
    "    dict_models2[name]['nt'].append(balanced_accuracy_score(y_test, model.predict(X_test)))\n",
    "    print('******************')\n",
    "  # alg = str(input('Ingrese el Algoritmo deseado: '))\n",
    "  # print(dict_models[alg])"
   ]
  },
  {
   "cell_type": "code",
   "execution_count": 60,
   "metadata": {
    "colab": {
     "base_uri": "https://localhost:8080/"
    },
    "id": "PIZZLioA5HGB",
    "outputId": "bc031d0a-ece9-4832-a2f6-19a781870735"
   },
   "outputs": [
    {
     "data": {
      "text/plain": [
       "{'Tree': {'t': [0.6602836879432624,\n",
       "   0.9939759036144578,\n",
       "   0.9206502494769033,\n",
       "   0.718625177954037],\n",
       "  'nt': [0.5709219858156028,\n",
       "   0.9939759036144578,\n",
       "   0.9172836525564676,\n",
       "   0.7030364043115721]},\n",
       " 'RF': {'t': [0.5723404255319149, 0.9939759036144578, 0.9505338269220451],\n",
       "  'nt': [0.5936170212765958, 0.9939759036144578, 0.9461478620097645]},\n",
       " 'KNN': {'t': [0.6815602836879433, 0.9879518072289157, 0.8558801437845378],\n",
       "  'nt': [0.6588652482269504, 0.9879518072289157, 0.8574091957723053]},\n",
       " 'XGB': {'t': [0.5418439716312057, 0.9939759036144578, 0.9631820376629647],\n",
       "  'nt': [0.5617021276595745, 0.9939759036144578, 0.9461478620097645]}}"
      ]
     },
     "execution_count": 60,
     "metadata": {},
     "output_type": "execute_result"
    }
   ],
   "source": [
    "dict_models2"
   ]
  },
  {
   "cell_type": "code",
   "execution_count": 38,
   "metadata": {
    "colab": {
     "base_uri": "https://localhost:8080/"
    },
    "id": "DEnlvvqlPu0t",
    "outputId": "82ebe522-16d2-40cc-e572-95c3b36cf573"
   },
   "outputs": [
    {
     "name": "stdout",
     "output_type": "stream",
     "text": [
      "Fitting 5 folds for each of 64 candidates, totalling 320 fits\n",
      "0.47\n",
      "{'ccp_alpha': 0, 'min_impurity_decrease': 0, 'min_samples_leaf': 20, 'random_state': 123}\n",
      "Tree: 0.687500 (0.192638)\n",
      "noTruncated: 0.6666666666666666\n",
      "Truncated 0.3333333333333333\n",
      "******************\n",
      "Fitting 5 folds for each of 128 candidates, totalling 640 fits\n",
      "0.45\n",
      "{'ccp_alpha': 0, 'min_impurity_decrease': 0, 'min_samples_leaf': 20, 'n_estimators': 500, 'oob_score': False, 'random_state': 123}\n",
      "RF: 0.693845 (0.097166)\n",
      "noTruncated: 0.6666666666666666\n",
      "Truncated 0.3333333333333333\n",
      "******************\n",
      "Fitting 5 folds for each of 60 candidates, totalling 300 fits\n",
      "0.94\n",
      "{'algorithm': 'ball_tree', 'leaf_size': 20, 'n_neighbors': 7, 'p': 1}\n",
      "KNN: 0.784470 (0.192715)\n",
      "noTruncated: 0.4875\n",
      "Truncated 0.5\n",
      "******************\n",
      "Fitting 5 folds for each of 432 candidates, totalling 2160 fits\n",
      "0.94\n",
      "{'colsample_bytree': 0.8, 'learning_rate': 0.5, 'min_child_weight': 1, 'n_estimators': 100, 'random_state': 123, 'subsample': 0.8, 'verbosity': 0}\n",
      "XGB: 0.781345 (0.192615)\n",
      "noTruncated: 0.6666666666666666\n",
      "Truncated 0.5\n",
      "******************\n"
     ]
    }
   ],
   "source": [
    "for path in paths:\n",
    "  X_train, X_test, y_train, y_test = read_split(path,0.2)\n",
    "  results = []\n",
    "  names = []\n",
    "  for name, model in models:\n",
    "    model_grid = GridSearchCV(model,\n",
    "                  parameters[name],\n",
    "                  cv = 5,\n",
    "                  n_jobs = 5,\n",
    "                  verbose=True,\n",
    "                  scoring='balanced_accuracy')\n",
    "    model_grid.fit(X_train, y_train)\n",
    "    probs = np.array(model_grid.predict_proba(X_train)[:,0])\n",
    "    perfor=[]\n",
    "    for theta in thetas:\n",
    "      pred = 1*(probs>=theta)\n",
    "      perfor.append(met.balanced_accuracy_score(y_train,pred))\n",
    "    perfor=np.array(perfor,dtype=np.float32)\n",
    "    list1 = np.array(perfor)\n",
    "    k = 7\n",
    "    pos = []\n",
    "    for i in range(k):\n",
    "        max_v = np.argmax(list1)\n",
    "        x=list1[max_v]\n",
    "        for j in range(1,4):\n",
    "            list1[max_v-j]=-1*(list1[max_v-j]==x)+list1[max_v-j]*(list1[max_v-j]!=x)\n",
    "            list1[max_v+j]=-1*(list1[max_v+j]==x)+list1[max_v+j]*(list1[max_v+j]!=x)\n",
    "        pos.append(max_v)\n",
    "        list1[max_v] = -1\n",
    "    x=abs((thetas[pos]-0.5)*(thetas[pos]>=0.5))+thetas[pos]*(thetas[pos]<0.5)\n",
    "    tOptim=pos[np.where(x==np.max(x))[0][0]]/100\n",
    "    print(tOptim)\n",
    "    print(model_grid.best_params_)\n",
    "    model.parameters = model_grid.best_params_\n",
    "    cv_results = cross_val_score(model,X_train, y_train, cv=5,scoring='balanced_accuracy')\n",
    "    results.append(cv_results)\n",
    "    names.append(name)\n",
    "    msg= '%s: %f (%f)' %(name, cv_results.mean(), cv_results.std())\n",
    "    print(msg)\n",
    "    model.fit(X_train,y_train)\n",
    "    probs=np.array(model.predict_proba(X_test)[:,0])\n",
    "    print('noTruncated:',met.balanced_accuracy_score(y_test, model.predict(X_test)))\n",
    "    print('Truncated',met.balanced_accuracy_score(y_test, 1*(probs>=tOptim)))\n",
    "    dict_models3[name]['t'].append(met.balanced_accuracy_score(y_test, 1*(probs>=tOptim)))\n",
    "    dict_models3[name]['nt'].append(met.balanced_accuracy_score(y_test, model.predict(X_test)))\n",
    "    print('******************')"
   ]
  },
  {
   "cell_type": "code",
   "execution_count": 24,
   "metadata": {},
   "outputs": [
    {
     "data": {
      "text/plain": [
       "{'Tree': {'t': [0.6404255319148936], 'nt': [0.625531914893617]},\n",
       " 'RF': {'t': [0.6737588652482269], 'nt': [0.5602836879432624]},\n",
       " 'KNN': {'t': [0.6524822695035462], 'nt': [0.6588652482269504]},\n",
       " 'XGB': {'t': [0.5964539007092198], 'nt': [0.5617021276595745]}}"
      ]
     },
     "execution_count": 24,
     "metadata": {},
     "output_type": "execute_result"
    }
   ],
   "source": [
    "dict_models1"
   ]
  },
  {
   "cell_type": "code",
   "execution_count": 41,
   "metadata": {
    "colab": {
     "base_uri": "https://localhost:8080/"
    },
    "id": "aybCsk5x2prF",
    "outputId": "60a61a42-2383-48df-a19a-efc044f568da"
   },
   "outputs": [
    {
     "data": {
      "text/plain": [
       "{'Tree': {'t': [0.45177304964539006, 0.37446808510638296, 0.6148936170212767],\n",
       "  'nt': [0.5482269503546099, 0.625531914893617, 0.6148936170212767]},\n",
       " 'RF': {'t': [0.4574468085106383, 0.6524822695035462],\n",
       "  'nt': [0.5829787234042554, 0.5829787234042554]},\n",
       " 'KNN': {'t': [0.5, 0.5914893617021277],\n",
       "  'nt': [0.6588652482269504, 0.6588652482269504]},\n",
       " 'XGB': {'t': [0.5, 0.5404255319148936],\n",
       "  'nt': [0.5617021276595745, 0.5617021276595745]}}"
      ]
     },
     "execution_count": 41,
     "metadata": {},
     "output_type": "execute_result"
    }
   ],
   "source": [
    "dict_models3"
   ]
  },
  {
   "cell_type": "code",
   "execution_count": null,
   "metadata": {
    "colab": {
     "base_uri": "https://localhost:8080/"
    },
    "id": "bBX5gwzrXPXN",
    "outputId": "0caddaec-e0f2-4c83-962f-3ce431c10caa"
   },
   "outputs": [],
   "source": [
    "X_train, X_test, y_train, y_test = read_split(paths[0],0.2)\n",
    "knn = KNeighborsClassifier(n_neighbors=3)\n",
    "knn.fit(X_train,y_train)"
   ]
  },
  {
   "cell_type": "code",
   "execution_count": null,
   "metadata": {
    "colab": {
     "base_uri": "https://localhost:8080/"
    },
    "id": "OjrW4TEksDln",
    "outputId": "e4c7e270-7958-41dc-999b-ca3c0d40ff4a"
   },
   "outputs": [],
   "source": [
    "knn.predict(X_test)"
   ]
  },
  {
   "cell_type": "code",
   "execution_count": null,
   "metadata": {
    "colab": {
     "base_uri": "https://localhost:8080/"
    },
    "id": "n3sMGzfmsivy",
    "outputId": "e0bc9dda-7048-438c-ec50-8596eb6f71cc"
   },
   "outputs": [],
   "source": [
    "balanced_accuracy_score(y_test, knn.predict(X_test))"
   ]
  },
  {
   "cell_type": "code",
   "execution_count": null,
   "metadata": {
    "id": "D0fFZ7-stDdg"
   },
   "outputs": [],
   "source": [
    "probs = np.array(knn.predict_proba(X_train)[:,0])"
   ]
  },
  {
   "cell_type": "code",
   "execution_count": 231,
   "metadata": {},
   "outputs": [
    {
     "name": "stdout",
     "output_type": "stream",
     "text": [
      "[0.3647541  0.35067874 0.34134614 0.32539684 0.31142858 0.297546\n",
      " 0.28289473 0.2739726  0.26595744 0.26086956 0.2421875  0.22268908\n",
      " 0.21551724 0.2079646  0.19724771 0.18867925 0.18571429 0.16666667\n",
      " 0.15979381 0.15263158 0.14516129 0.125      0.10714286 0.09756097\n",
      " 0.09756097 0.08227848 0.08227848 0.07692308 0.06578948 0.06\n",
      " 0.05405406 0.05405406 0.04794521 0.04166667 0.03521127 0.02857143\n",
      " 0.02857143 0.02857143 0.02857143 0.02857143 0.02857143 0.02857143\n",
      " 0.02857143 0.02857143 0.02489973 0.02489973 0.02076949 0.02076949\n",
      " 0.02076949 0.01614583 0.01614583 0.01098901 0.01098901 0.01098901\n",
      " 0.01098901 0.01098901 0.01098901 0.0136612  0.0136612  0.0136612\n",
      " 0.0136612  0.01630435 0.01630435 0.01891892 0.02406417 0.02406417\n",
      " 0.02659575 0.03157895 0.03645833 0.04822335 0.05050505 0.05276382\n",
      " 0.06372549 0.06796116 0.07004831 0.07211538 0.07619048 0.08215962\n",
      " 0.08986175 0.08986175 0.09728507 0.10089686 0.10444444 0.11135371\n",
      " 0.11471862 0.11637931 0.12127659 0.12288135 0.12761506 0.1307054\n",
      " 0.1322314  0.1322314  0.1322314  0.13374485 0.1352459  0.1352459\n",
      " 0.1352459  0.1352459  0.1352459  0.1352459  0.1352459 ]\n",
      "0.06\n",
      "0.28289473684210525\n"
     ]
    },
    {
     "name": "stderr",
     "output_type": "stream",
     "text": [
      "C:\\Users\\sdariza\\.conda\\envs\\mineria\\lib\\site-packages\\sklearn\\metrics\\_classification.py:1318: UndefinedMetricWarning: Precision is ill-defined and being set to 0.0 in labels with no predicted samples. Use `zero_division` parameter to control this behavior.\n",
      "  _warn_prf(average, modifier, msg_start, len(result))\n",
      "C:\\Users\\sdariza\\.conda\\envs\\mineria\\lib\\site-packages\\sklearn\\metrics\\_classification.py:1318: UndefinedMetricWarning: Precision is ill-defined and being set to 0.0 in labels with no predicted samples. Use `zero_division` parameter to control this behavior.\n",
      "  _warn_prf(average, modifier, msg_start, len(result))\n",
      "C:\\Users\\sdariza\\.conda\\envs\\mineria\\lib\\site-packages\\sklearn\\metrics\\_classification.py:1318: UndefinedMetricWarning: Precision is ill-defined and being set to 0.0 in labels with no predicted samples. Use `zero_division` parameter to control this behavior.\n",
      "  _warn_prf(average, modifier, msg_start, len(result))\n",
      "C:\\Users\\sdariza\\.conda\\envs\\mineria\\lib\\site-packages\\sklearn\\metrics\\_classification.py:1318: UndefinedMetricWarning: Precision is ill-defined and being set to 0.0 in labels with no predicted samples. Use `zero_division` parameter to control this behavior.\n",
      "  _warn_prf(average, modifier, msg_start, len(result))\n",
      "C:\\Users\\sdariza\\.conda\\envs\\mineria\\lib\\site-packages\\sklearn\\metrics\\_classification.py:1318: UndefinedMetricWarning: Precision is ill-defined and being set to 0.0 in labels with no predicted samples. Use `zero_division` parameter to control this behavior.\n",
      "  _warn_prf(average, modifier, msg_start, len(result))\n",
      "C:\\Users\\sdariza\\.conda\\envs\\mineria\\lib\\site-packages\\sklearn\\metrics\\_classification.py:1318: UndefinedMetricWarning: Precision is ill-defined and being set to 0.0 in labels with no predicted samples. Use `zero_division` parameter to control this behavior.\n",
      "  _warn_prf(average, modifier, msg_start, len(result))\n",
      "C:\\Users\\sdariza\\.conda\\envs\\mineria\\lib\\site-packages\\sklearn\\metrics\\_classification.py:1318: UndefinedMetricWarning: Precision is ill-defined and being set to 0.0 in labels with no predicted samples. Use `zero_division` parameter to control this behavior.\n",
      "  _warn_prf(average, modifier, msg_start, len(result))\n",
      "C:\\Users\\sdariza\\.conda\\envs\\mineria\\lib\\site-packages\\sklearn\\metrics\\_classification.py:1318: UndefinedMetricWarning: Precision is ill-defined and being set to 0.0 in labels with no predicted samples. Use `zero_division` parameter to control this behavior.\n",
      "  _warn_prf(average, modifier, msg_start, len(result))\n"
     ]
    },
    {
     "data": {
      "text/plain": [
       "0.24157303370786518"
      ]
     },
     "execution_count": 231,
     "metadata": {},
     "output_type": "execute_result"
    }
   ],
   "source": [
    "X_train, X_test, y_train, y_test = read_split(path,0.2)\n",
    "results = []\n",
    "names = []\n",
    "model_grid = RandomForestClassifier(random_state=8)\n",
    "model_grid.fit(X_train, y_train)\n",
    "probs = np.array(model_grid.predict_proba(X_train)[:,0])\n",
    "perfor=[]\n",
    "for theta in thetas:\n",
    "  pred = 1*(probs>=theta)\n",
    "  perfor.append(met.precision_score(y_train, pred,average=\"macro\"))\n",
    "perfor=np.array(perfor,dtype=np.float32)\n",
    "list1 = np.array(perfor)\n",
    "k = 7\n",
    "pos = []\n",
    "for i in range(k):\n",
    "    max_v = np.argmax(list1)\n",
    "    x=list1[max_v]\n",
    "    for j in range(1,4):\n",
    "        list1[max_v-j]=-1*(list1[max_v-j]==x)+list1[max_v-j]*(list1[max_v-j]!=x)\n",
    "        list1[max_v+j]=-1*(list1[max_v+j]==x)+list1[max_v+j]*(list1[max_v+j]!=x)\n",
    "    pos.append(max_v)\n",
    "    list1[max_v] = -1\n",
    "x=abs((thetas[pos]-0.5)*(thetas[pos]>=0.5))+thetas[pos]*(thetas[pos]<0.5)\n",
    "tOptim=pos[np.where(x==np.max(x))[0][0]]/100\n",
    "print(perfor)\n",
    "print(tOptim)\n",
    "\n",
    "print(met.precision_score(y_train, 1*(probs>=tOptim),average=\"macro\"))\n",
    "met.recall_score(y_train, 1*(probs>=tOptim),average=\"macro\")\n",
    "# log_loss roc_auc_score(y_train,pred, average='weighted', multi_class='ovr')"
   ]
  },
  {
   "cell_type": "code",
   "execution_count": null,
   "metadata": {
    "colab": {
     "base_uri": "https://localhost:8080/"
    },
    "id": "S3PT_hKcs1JL",
    "outputId": "bd8d68cf-9ccc-4f81-bf64-094df7e9a9e9"
   },
   "outputs": [],
   "source": [
    "perfor=[]\n",
    "for theta in thetas:\n",
    "  pred = 1*(probs>=theta)+2*(probs<theta)\n",
    "  perfor.append(roc_auc_score(y_train,pred, average='weighted', multi_class='ovr'))\n",
    "perfor=np.array(perfor,dtype=np.float32)\n",
    "tOptim=thetas[perfor.argmax()]\n",
    "print(perfor)"
   ]
  },
  {
   "cell_type": "code",
   "execution_count": null,
   "metadata": {
    "colab": {
     "base_uri": "https://localhost:8080/",
     "height": 175
    },
    "id": "1g-exCxR6ic8",
    "outputId": "b548435f-a5fe-4fb9-9cda-b0443dc5c1b8"
   },
   "outputs": [],
   "source": [
    "# pd.DataFrame.from_dict(dict_models, orient='index')"
   ]
  },
  {
   "cell_type": "code",
   "execution_count": null,
   "metadata": {
    "colab": {
     "base_uri": "https://localhost:8080/",
     "height": 1000
    },
    "id": "3Bwwkcj9-Gs_",
    "outputId": "b8f9ce5e-686d-4071-b941-07c054062ecb"
   },
   "outputs": [],
   "source": [
    "for key,value in dict_models1.items():\n",
    "  plt.plot(dict_models1[key]['t'],'o',label=key+'t')\n",
    "  plt.plot(dict_models1[key]['nt'],'o',label=key+'nt')\n",
    "  plt.legend()\n",
    "  plt.show()"
   ]
  },
  {
   "cell_type": "code",
   "execution_count": 121,
   "metadata": {
    "id": "o6muOknSnBdI"
   },
   "outputs": [],
   "source": [
    "parameters = []\n",
    "parameters.append(('Tree',{'class_weight':['balanced'],\n",
    "                           'min_samples_leaf':[20,30,40,50],\n",
    "                           'min_impurity_decrease':[0,0.01,0.03,0.05],\n",
    "                           'ccp_alpha':[0,0.01,0.03,0.05],\n",
    "                           'random_state':[123]}))\n",
    "\n",
    "parameters.append(('RF',{'class_weight':['balanced'],\n",
    "                         'n_estimators':[500],\n",
    "                         'min_samples_leaf':[20,30,40,50],\n",
    "                         'min_impurity_decrease':[0,0.01,0.03,0.05],\n",
    "                         'ccp_alpha':[0,0.01,0.03,0.05],\n",
    "                         'oob_score':[False, True],\n",
    "                         'random_state':[123]}))\n",
    "\n",
    "parameters.append(('XGB',{'sample_type':['weighted'],\n",
    "                          'learning_rate': [0.3, 0.5, 0.7],\n",
    "                          'min_child_weight': [1,3,5],\n",
    "                          'subsample': [0.5,0.6,0.7,0.8],\n",
    "                          'verbosity' : [0],\n",
    "                          'colsample_bytree': [0.7,0.8,0.9,1],\n",
    "                          'n_estimators': [100,300,500],\n",
    "                          'random_state':[123]}))\n",
    "parameters = dict(parameters)"
   ]
  },
  {
   "cell_type": "code",
   "execution_count": 122,
   "metadata": {
    "colab": {
     "base_uri": "https://localhost:8080/",
     "height": 235
    },
    "id": "fcTB-1AgrRVj",
    "outputId": "8ab03188-1a39-4c46-b65b-8f777e399019"
   },
   "outputs": [],
   "source": [
    "models1 = []\n",
    "models1.append(('Tree',DecisionTreeClassifier()))\n",
    "models1.append(('RF',RandomForestClassifier()))\n",
    "models1.append(('XGB',xgb()))"
   ]
  },
  {
   "cell_type": "code",
   "execution_count": 123,
   "metadata": {
    "id": "zlcit-8bnqGi"
   },
   "outputs": [
    {
     "name": "stdout",
     "output_type": "stream",
     "text": [
      "Fitting 5 folds for each of 64 candidates, totalling 320 fits\n",
      "weighted:  0.6148936170212767\n",
      "no_weighted:  0.5921985815602837\n",
      "******************\n",
      "Fitting 5 folds for each of 128 candidates, totalling 640 fits\n",
      "weighted:  0.5829787234042554\n",
      "no_weighted:  0.5723404255319149\n",
      "******************\n",
      "Fitting 5 folds for each of 432 candidates, totalling 2160 fits\n",
      "Unexpected exception formatting exception. Falling back to standard exception\n"
     ]
    },
    {
     "name": "stderr",
     "output_type": "stream",
     "text": [
      "Traceback (most recent call last):\n",
      "  File \"C:\\Users\\sdariza\\.conda\\envs\\mineria\\lib\\site-packages\\IPython\\core\\interactiveshell.py\", line 3398, in run_code\n",
      "    exec(code_obj, self.user_global_ns, self.user_ns)\n",
      "  File \"C:\\Users\\sdariza\\AppData\\Local\\Temp\\4\\ipykernel_10636\\1257707153.py\", line 12, in <cell line: 1>\n",
      "    model_grid.fit(X_train, y_train)\n",
      "  File \"C:\\Users\\sdariza\\.conda\\envs\\mineria\\lib\\site-packages\\sklearn\\model_selection\\_search.py\", line 891, in fit\n",
      "    self._run_search(evaluate_candidates)\n",
      "  File \"C:\\Users\\sdariza\\.conda\\envs\\mineria\\lib\\site-packages\\sklearn\\model_selection\\_search.py\", line 1392, in _run_search\n",
      "    evaluate_candidates(ParameterGrid(self.param_grid))\n",
      "  File \"C:\\Users\\sdariza\\.conda\\envs\\mineria\\lib\\site-packages\\sklearn\\model_selection\\_search.py\", line 838, in evaluate_candidates\n",
      "    out = parallel(\n",
      "  File \"C:\\Users\\sdariza\\.conda\\envs\\mineria\\lib\\site-packages\\joblib\\parallel.py\", line 1098, in __call__\n",
      "  File \"C:\\Users\\sdariza\\.conda\\envs\\mineria\\lib\\site-packages\\joblib\\parallel.py\", line 975, in retrieve\n",
      "    # specific to this Parallel object when pickling temporary memmaps.\n",
      "  File \"C:\\Users\\sdariza\\.conda\\envs\\mineria\\lib\\site-packages\\joblib\\_parallel_backends.py\", line 567, in wrap_future_result\n",
      "  File \"C:\\Users\\sdariza\\.conda\\envs\\mineria\\lib\\concurrent\\futures\\_base.py\", line 441, in result\n",
      "    self._condition.wait(timeout)\n",
      "  File \"C:\\Users\\sdariza\\.conda\\envs\\mineria\\lib\\threading.py\", line 312, in wait\n",
      "    waiter.acquire()\n",
      "KeyboardInterrupt\n",
      "\n",
      "During handling of the above exception, another exception occurred:\n",
      "\n",
      "Traceback (most recent call last):\n",
      "  File \"C:\\Users\\sdariza\\.conda\\envs\\mineria\\lib\\site-packages\\IPython\\core\\interactiveshell.py\", line 1993, in showtraceback\n",
      "    stb = self.InteractiveTB.structured_traceback(\n",
      "  File \"C:\\Users\\sdariza\\.conda\\envs\\mineria\\lib\\site-packages\\IPython\\core\\ultratb.py\", line 1118, in structured_traceback\n",
      "    return FormattedTB.structured_traceback(\n",
      "  File \"C:\\Users\\sdariza\\.conda\\envs\\mineria\\lib\\site-packages\\IPython\\core\\ultratb.py\", line 1012, in structured_traceback\n",
      "    return VerboseTB.structured_traceback(\n",
      "  File \"C:\\Users\\sdariza\\.conda\\envs\\mineria\\lib\\site-packages\\IPython\\core\\ultratb.py\", line 865, in structured_traceback\n",
      "    formatted_exception = self.format_exception_as_a_whole(etype, evalue, etb, number_of_lines_of_context,\n",
      "  File \"C:\\Users\\sdariza\\.conda\\envs\\mineria\\lib\\site-packages\\IPython\\core\\ultratb.py\", line 818, in format_exception_as_a_whole\n",
      "    frames.append(self.format_record(r))\n",
      "  File \"C:\\Users\\sdariza\\.conda\\envs\\mineria\\lib\\site-packages\\IPython\\core\\ultratb.py\", line 736, in format_record\n",
      "    result += ''.join(_format_traceback_lines(frame_info.lines, Colors, self.has_colors, lvals))\n",
      "  File \"C:\\Users\\sdariza\\.conda\\envs\\mineria\\lib\\site-packages\\stack_data\\utils.py\", line 145, in cached_property_wrapper\n",
      "    value = obj.__dict__[self.func.__name__] = self.func(obj)\n",
      "  File \"C:\\Users\\sdariza\\.conda\\envs\\mineria\\lib\\site-packages\\stack_data\\core.py\", line 698, in lines\n",
      "    pieces = self.included_pieces\n",
      "  File \"C:\\Users\\sdariza\\.conda\\envs\\mineria\\lib\\site-packages\\stack_data\\utils.py\", line 145, in cached_property_wrapper\n",
      "    value = obj.__dict__[self.func.__name__] = self.func(obj)\n",
      "  File \"C:\\Users\\sdariza\\.conda\\envs\\mineria\\lib\\site-packages\\stack_data\\core.py\", line 649, in included_pieces\n",
      "    pos = scope_pieces.index(self.executing_piece)\n",
      "  File \"C:\\Users\\sdariza\\.conda\\envs\\mineria\\lib\\site-packages\\stack_data\\utils.py\", line 145, in cached_property_wrapper\n",
      "    value = obj.__dict__[self.func.__name__] = self.func(obj)\n",
      "  File \"C:\\Users\\sdariza\\.conda\\envs\\mineria\\lib\\site-packages\\stack_data\\core.py\", line 628, in executing_piece\n",
      "    return only(\n",
      "  File \"C:\\Users\\sdariza\\.conda\\envs\\mineria\\lib\\site-packages\\executing\\executing.py\", line 164, in only\n",
      "    raise NotOneValueFound('Expected one value, found 0')\n",
      "executing.executing.NotOneValueFound: Expected one value, found 0\n"
     ]
    }
   ],
   "source": [
    "for path in paths:\n",
    "  X_train, X_test, y_train, y_test = read_split(path,0.2)\n",
    "  results = []\n",
    "  names = []\n",
    "  for name, model in models1:\n",
    "    model_grid = GridSearchCV(model,\n",
    "                  parameters[name],\n",
    "                  cv = 5,\n",
    "                  n_jobs = 5,\n",
    "                  verbose=True,\n",
    "                  scoring='balanced_accuracy')\n",
    "    model_grid.fit(X_train, y_train)\n",
    "    model.parameters = model_grid.best_params_\n",
    "    #cv_results = cross_val_score(model,X_train, y_train, cv=5,scoring='balanced_accuracy')\n",
    "    #results.append(cv_results)\n",
    "    #names.append(name)\n",
    "    #msg= '%s: %f (%f)' %(name, cv_results.mean(), cv_results.std())\n",
    "    #print(msg)\n",
    "    model.fit(X_train,y_train)\n",
    "    print('weighted: ',balanced_accuracy_score(y_test, model.predict(X_test)))\n",
    "    dict_models4[name]['t'].append(balanced_accuracy_score(y_test, model.predict(X_test)))\n",
    "    if name == 'XGB':\n",
    "        model.parameters.pop('sample_type','weighted')\n",
    "    else:\n",
    "        model.parameters.pop('class_weight','balanced')\n",
    "    model.fit(X_train,y_train)\n",
    "    #pick.dump(model,open(f'./weighted_{name}.sav','wb'))\n",
    "    print('no_weighted: ',balanced_accuracy_score(y_test, model.predict(X_test)))\n",
    "    dict_models4[name]['nt'].append(balanced_accuracy_score(y_test, model.predict(X_test)))\n",
    "    print('******************')"
   ]
  },
  {
   "cell_type": "code",
   "execution_count": 22,
   "metadata": {},
   "outputs": [],
   "source": [
    "dict_models = {'Tree':{'t':[0.525,0.8465,0.8518],'nt':[0.551,0.6565,0.851], 'size':[50,60,20]},\n",
    "              'RF':{'t':[],'nt':[],'size':[]},\n",
    "              'KNN':{'t':[],'nt':[],'size':[]},\n",
    "              'XGB':{'t':[],'nt':[],'size':[]}\n",
    "              }"
   ]
  },
  {
   "cell_type": "code",
   "execution_count": 43,
   "metadata": {},
   "outputs": [],
   "source": [
    "\n",
    "x=[np.array(dict_models[\"Tree\"][\"t\"], dtype=np.float32) * np.array(dict_models[\"Tree\"][\"size\"],dtype=np.float32),np.array(dict_models[\"Tree\"][\"nt\"], dtype=np.float32) * np.array(dict_models[\"Tree\"][\"size\"],dtype=np.float32) ]\n",
    "x=np.array(x)"
   ]
  },
  {
   "cell_type": "code",
   "execution_count": 45,
   "metadata": {},
   "outputs": [
    {
     "data": {
      "text/plain": [
       "0.637419454871635"
      ]
     },
     "execution_count": 45,
     "metadata": {},
     "output_type": "execute_result"
    }
   ],
   "source": [
    "stats.chi2_contingency(x)[1]"
   ]
  },
  {
   "cell_type": "code",
   "execution_count": 35,
   "metadata": {},
   "outputs": [
    {
     "data": {
      "text/plain": [
       "array([26.249998, 50.789997, 17.036001], dtype=float32)"
      ]
     },
     "execution_count": 35,
     "metadata": {},
     "output_type": "execute_result"
    }
   ],
   "source": [
    "np.array(dict_models[\"Tree\"][\"t\"], dtype=np.float32) * np.array(dict_models[\"Tree\"][\"size\"],dtype=np.float32)"
   ]
  },
  {
   "cell_type": "code",
   "execution_count": null,
   "metadata": {},
   "outputs": [],
   "source": [
    "if min(stats.shapiro(DatosMAPETrain).pvalue,stats.shapiro(DatosMAPETest).pvalue)<0.05:\n",
    "    pval=min(stats.mannwhitneyu(DatosMAPETrain,DatosMAPETest).pvalue,stats.fligner(DatosMAPETrain,DatosMAPETest).pvalue)\n",
    "else:\n",
    "    pval=min(stats.ttest_ind(DatosMAPETrain,DatosMAPETest).pvalue,stats.levene(DatosMAPETrain,DatosMAPETest).pvalue) \n",
    "DatosMAPE=np.concatenate((DatosMAPETrain, DatosMAPETest), axis=None)\n",
    "if pval>=0.05:\n",
    "  print(\"El modelo es consistente y tiene un MAPE de: \",DatosMAPE.mean())\n",
    "pval=min(pval,sm.stats.acorr_ljungbox(DatosMAPE)[1][0])\n",
    "if pval>=0.05:\n",
    "  print(\"El modelo es válido para predecir\")"
   ]
  }
 ],
 "metadata": {
  "colab": {
   "collapsed_sections": [],
   "provenance": []
  },
  "kernelspec": {
   "display_name": "Python 3 (ipykernel)",
   "language": "python",
   "name": "python3"
  },
  "language_info": {
   "codemirror_mode": {
    "name": "ipython",
    "version": 3
   },
   "file_extension": ".py",
   "mimetype": "text/x-python",
   "name": "python",
   "nbconvert_exporter": "python",
   "pygments_lexer": "ipython3",
   "version": "3.9.12"
  }
 },
 "nbformat": 4,
 "nbformat_minor": 1
}
