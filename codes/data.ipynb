{
  "nbformat": 4,
  "nbformat_minor": 0,
  "metadata": {
    "colab": {
      "provenance": [],
      "collapsed_sections": []
    },
    "kernelspec": {
      "name": "python3",
      "display_name": "Python 3"
    },
    "language_info": {
      "name": "python"
    }
  },
  "cells": [
    {
      "cell_type": "code",
      "source": [
        "def read_split(path:str,size:float):\n",
        "  data = pd.read_csv(path)\n",
        "  X = data.drop(columns=['survival_status'])\n",
        "  y = data.survival_status\n",
        "  return train_test_split(X,y, test_size=size, random_state=123)"
      ],
      "metadata": {
        "id": "xm79dJ5Rbj7b"
      },
      "execution_count": 87,
      "outputs": []
    },
    {
      "cell_type": "code",
      "execution_count": 102,
      "metadata": {
        "id": "wGLghfETQS48"
      },
      "outputs": [],
      "source": [
        "import pandas as pd\n",
        "import os\n",
        "import glob\n",
        "from sklearn.model_selection import train_test_split, cross_val_score\n",
        "\n",
        "from sklearn import tree\n",
        "from sklearn.tree import DecisionTreeClassifier\n",
        "from sklearn.ensemble import RandomForestClassifier\n",
        "from sklearn.neighbors import KNeighborsClassifier\n",
        "from  xgboost import XGBClassifier as xgb\n",
        "from sklearn.model_selection import GridSearchCV\n",
        "\n",
        "from imblearn.under_sampling import RandomUnderSampler\n",
        "from imblearn.over_sampling import RandomOverSampler, SMOTE\n",
        "from imblearn.under_sampling import TomekLinks \n",
        "from sklearn.metrics import balanced_accuracy_score"
      ]
    },
    {
      "cell_type": "code",
      "source": [
        "paths = glob.glob('./*.csv')"
      ],
      "metadata": {
        "id": "N9THJmFPRKry"
      },
      "execution_count": 14,
      "outputs": []
    },
    {
      "cell_type": "code",
      "source": [
        "!mkdir data"
      ],
      "metadata": {
        "id": "OWRmKIKCRv0L"
      },
      "execution_count": 11,
      "outputs": []
    },
    {
      "cell_type": "code",
      "source": [
        "for idx, path in enumerate(paths):\n",
        "   os.rename(path,f'./data/data{idx}.csv')"
      ],
      "metadata": {
        "id": "_DtaoiyeQbg-"
      },
      "execution_count": 15,
      "outputs": []
    },
    {
      "cell_type": "code",
      "source": [
        "paths = glob.glob('./data/*.csv')"
      ],
      "metadata": {
        "id": "gZPkrpruSWoE"
      },
      "execution_count": 17,
      "outputs": []
    },
    {
      "cell_type": "code",
      "source": [
        "models = []\n",
        "models.append(('Tree',DecisionTreeClassifier()))\n",
        "models.append(('RF',RandomForestClassifier()))\n",
        "models.append(('KNN',KNeighborsClassifier()))\n",
        "models.append(('XGB',xgb()))"
      ],
      "metadata": {
        "id": "UWaz9OdHT7Yg"
      },
      "execution_count": 84,
      "outputs": []
    },
    {
      "cell_type": "code",
      "source": [
        "parameters = []\n",
        "parameters.append(('Tree',{'min_samples_leaf':[20],\n",
        "                           'random_state':[123]}))\n",
        "\n",
        "parameters.append(('RF',{'n_estimators':[500],\n",
        "                         'min_samples_leaf':[20],\n",
        "                         'random_state':[123]}))\n",
        "\n",
        "parameters.append(('KNN',{'n_neighbors':[5]}))\n",
        "\n",
        "parameters.append(('XGB',{'nthread':[4],\n",
        "                          'learning_rate': [.03, 0.05, .07],\n",
        "                          'max_depth': [3],\n",
        "                          'min_child_weight': [4],\n",
        "                          'silent': [1],\n",
        "                          'subsample': [0.7],\n",
        "                          'colsample_bytree': [0.7],\n",
        "                          'n_estimators': [50,10,100,30],\n",
        "                          'random_state':[123]}))\n",
        "parameters = dict(parameters)"
      ],
      "metadata": {
        "id": "Oxz6iD-1eLws"
      },
      "execution_count": 85,
      "outputs": []
    },
    {
      "cell_type": "code",
      "source": [
        "dict_models = dict(models)"
      ],
      "metadata": {
        "id": "Y1v5tInYadWM"
      },
      "execution_count": 86,
      "outputs": []
    },
    {
      "cell_type": "code",
      "source": [
        "for path in paths:\n",
        "  X_train, X_test, y_train, y_test = read_split(path,0.2)\n",
        "  ros = SMOTE(random_state=123)\n",
        "  x_ros, y_ros = ros.fit_resample(X_train,y_train)\n",
        "\n",
        "  results = []\n",
        "  names = []\n",
        "  for name, model in models:\n",
        "    model_grid = GridSearchCV(model,\n",
        "                 parameters[name],\n",
        "                 cv = 5,\n",
        "                 n_jobs = 5,\n",
        "                 verbose=True,\n",
        "                 scoring='balanced_accuracy')\n",
        "    model_grid.fit(x_ros, y_ros)\n",
        "    print(model_grid.best_params_)\n",
        "    # print(model_grid.best_score_)\n",
        "    model.parameters = model_grid.best_params_\n",
        "    cv_results = cross_val_score(model,x_ros, y_ros, cv=5,scoring='balanced_accuracy')\n",
        "    results.append(cv_results)\n",
        "    names.append(name)\n",
        "    msg= '%s: %f (%f)' %(name, cv_results.mean(), cv_results.std())\n",
        "    print(msg)\n",
        "    model.fit(x_ros,y_ros)\n",
        "    print(balanced_accuracy_score(y_test, model.predict(X_test)))\n",
        "    print('******************')\n",
        "  # alg = str(input('Ingrese el Algoritmo deseado: '))\n",
        "  # print(dict_models[alg])\n"
      ],
      "metadata": {
        "colab": {
          "base_uri": "https://localhost:8080/"
        },
        "id": "21rhjXSURHIx",
        "outputId": "f1b24057-a1c8-4a17-d35d-66af08cdadaf"
      },
      "execution_count": 100,
      "outputs": [
        {
          "output_type": "stream",
          "name": "stdout",
          "text": [
            "Fitting 5 folds for each of 1 candidates, totalling 5 fits\n",
            "{'min_samples_leaf': 20, 'random_state': 123}\n",
            "Tree: 0.691190 (0.035657)\n",
            "0.6404255319148936\n",
            "******************\n",
            "Fitting 5 folds for each of 1 candidates, totalling 5 fits\n",
            "{'min_samples_leaf': 20, 'n_estimators': 500, 'random_state': 123}\n",
            "RF: 0.742619 (0.059970)\n",
            "0.6631205673758864\n",
            "******************\n",
            "Fitting 5 folds for each of 1 candidates, totalling 5 fits\n",
            "{'n_neighbors': 5}\n",
            "KNN: 0.725397 (0.032569)\n",
            "0.6524822695035462\n",
            "******************\n",
            "Fitting 5 folds for each of 12 candidates, totalling 60 fits\n",
            "{'colsample_bytree': 0.7, 'learning_rate': 0.07, 'max_depth': 3, 'min_child_weight': 4, 'n_estimators': 100, 'nthread': 4, 'random_state': 123, 'silent': 1, 'subsample': 0.7}\n",
            "XGB: 0.702381 (0.019089)\n",
            "0.6524822695035462\n",
            "******************\n"
          ]
        }
      ]
    },
    {
      "cell_type": "code",
      "source": [
        "parameters = []\n",
        "parameters.append(('Tree',{'min_samples_leaf':[20],\n",
        "                           'random_state':[123]}))\n",
        "\n",
        "parameters.append(('RF',{'n_estimators':[500],\n",
        "                         'min_samples_leaf':[20],\n",
        "                         'random_state':[123]}))\n",
        "\n",
        "parameters.append(('KNN',{'n_neighbors':[5]}))\n",
        "\n",
        "parameters.append(('XGB',{'nthread':[4],\n",
        "                          'learning_rate': [.03, 0.05, .07],\n",
        "                          'max_depth': [3],\n",
        "                          'min_child_weight': [4],\n",
        "                          'silent': [1],\n",
        "                          'subsample': [0.7],\n",
        "                          'colsample_bytree': [0.7],\n",
        "                          'n_estimators': [50,10,100,30],\n",
        "                          'random_state':[123]}))\n",
        "parameters = dict(parameters)"
      ],
      "metadata": {
        "id": "MZZaaymP41x0"
      },
      "execution_count": 101,
      "outputs": []
    },
    {
      "cell_type": "code",
      "source": [
        "for path in paths:\n",
        "  X_train, X_test, y_train, y_test = read_split(path,0.2)\n",
        "  ros = TomekLinks()\n",
        "  x_ros, y_ros = ros.fit_resample(X_train,y_train)\n",
        "\n",
        "  results = []\n",
        "  names = []\n",
        "  for name, model in models:\n",
        "    model_grid = GridSearchCV(model,\n",
        "                 parameters[name],\n",
        "                 cv = 5,\n",
        "                 n_jobs = 5,\n",
        "                 verbose=True,\n",
        "                 scoring='balanced_accuracy')\n",
        "    model_grid.fit(x_ros, y_ros)\n",
        "    print(model_grid.best_params_)\n",
        "    # print(model_grid.best_score_)\n",
        "    model.parameters = model_grid.best_params_\n",
        "    cv_results = cross_val_score(model,x_ros, y_ros, cv=5,scoring='balanced_accuracy')\n",
        "    results.append(cv_results)\n",
        "    names.append(name)\n",
        "    msg= '%s: %f (%f)' %(name, cv_results.mean(), cv_results.std())\n",
        "    print(msg)\n",
        "    model.fit(x_ros,y_ros)\n",
        "    print(balanced_accuracy_score(y_test, model.predict(X_test)))\n",
        "    print('******************')\n",
        "  # alg = str(input('Ingrese el Algoritmo deseado: '))\n",
        "  # print(dict_models[alg])"
      ],
      "metadata": {
        "colab": {
          "base_uri": "https://localhost:8080/"
        },
        "id": "qjB77s9f413M",
        "outputId": "d12ed40e-5784-474b-8f42-3390380d52a0"
      },
      "execution_count": 104,
      "outputs": [
        {
          "output_type": "stream",
          "name": "stdout",
          "text": [
            "Fitting 5 folds for each of 1 candidates, totalling 5 fits\n",
            "{'min_samples_leaf': 20, 'random_state': 123}\n",
            "Tree: 0.551854 (0.085401)\n",
            "0.649645390070922\n",
            "******************\n",
            "Fitting 5 folds for each of 1 candidates, totalling 5 fits\n",
            "{'min_samples_leaf': 20, 'n_estimators': 500, 'random_state': 123}\n",
            "RF: 0.635329 (0.033628)\n",
            "0.5283687943262412\n",
            "******************\n",
            "Fitting 5 folds for each of 1 candidates, totalling 5 fits\n",
            "{'n_neighbors': 5}\n",
            "KNN: 0.606350 (0.030793)\n",
            "0.6709219858156028\n",
            "******************\n",
            "Fitting 5 folds for each of 12 candidates, totalling 60 fits\n",
            "{'colsample_bytree': 0.7, 'learning_rate': 0.07, 'max_depth': 3, 'min_child_weight': 4, 'n_estimators': 100, 'nthread': 4, 'random_state': 123, 'silent': 1, 'subsample': 0.7}\n",
            "XGB: 0.613799 (0.023877)\n",
            "0.5950354609929078\n",
            "******************\n"
          ]
        }
      ]
    }
  ]
}